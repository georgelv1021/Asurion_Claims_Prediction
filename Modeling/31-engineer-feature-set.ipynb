{
 "cells": [
  {
   "cell_type": "markdown",
   "id": "58e13cab",
   "metadata": {},
   "source": [
    "# 31-engineer-feature-set\n",
    "> The data will be subset based on engineered feature\n",
    "> We want just the Apple phones that are of their most recent models (X - 14)."
   ]
  },
  {
   "cell_type": "markdown",
   "id": "e89f53ed",
   "metadata": {},
   "source": [
    "### Load libraries and data"
   ]
  },
  {
   "cell_type": "code",
   "execution_count": 1,
   "id": "dcaeb68e",
   "metadata": {},
   "outputs": [
    {
     "name": "stdout",
     "output_type": "stream",
     "text": [
      "       phone model phone size phone color  claim weeks_monday    month  year  \\\n",
      "1  apple iphone 11      128gb       black    252   2022-01-24  January  2022   \n",
      "2  apple iphone 11      128gb       green     45   2022-01-24  January  2022   \n",
      "3  apple iphone 11      128gb      purple     92   2022-01-24  January  2022   \n",
      "4  apple iphone 11      128gb         red     69   2022-01-24  January  2022   \n",
      "5  apple iphone 11      128gb       white     91   2022-01-24  January  2022   \n",
      "\n",
      "   season quarter  Holidays_Boolean company  \n",
      "1  winter      Q1             False   apple  \n",
      "2  winter      Q1             False   apple  \n",
      "3  winter      Q1             False   apple  \n",
      "4  winter      Q1             False   apple  \n",
      "5  winter      Q1             False   apple  \n",
      "phone model\n",
      "apple iphone 11            1511\n",
      "apple iphone 11 pro         584\n",
      "apple iphone 11 pro max     932\n",
      "apple iphone 12            1121\n",
      "apple iphone 12 mini        536\n",
      "apple iphone 12 pro         653\n",
      "apple iphone 12 pro max     909\n",
      "apple iphone 13             478\n",
      "apple iphone 13 mini        160\n",
      "apple iphone 13 pro         408\n",
      "apple iphone 13 pro max     615\n",
      "apple iphone 14              61\n",
      "apple iphone 14 pro max       7\n",
      "apple iphone 3g s             4\n",
      "apple iphone 4               20\n",
      "apple iphone 4s              31\n",
      "apple iphone 5               47\n",
      "apple iphone 5c              55\n",
      "apple iphone 5s             155\n",
      "apple iphone 6              548\n",
      "apple iphone 6 plus         491\n",
      "apple iphone 6s             916\n",
      "apple iphone 6s plus        826\n",
      "apple iphone 7              721\n",
      "apple iphone 7 plus         761\n",
      "apple iphone 8              742\n",
      "apple iphone 8 plus         878\n",
      "apple iphone se             445\n",
      "apple iphone se 2020        387\n",
      "apple iphone se 2022        131\n",
      "apple iphone x              137\n",
      "apple iphone x              172\n",
      "apple iphone xr            1235\n",
      "apple iphone xs             508\n",
      "apple iphone xs max         694\n",
      "Name: phone model, dtype: int64\n"
     ]
    }
   ],
   "source": [
    "import pandas as pd\n",
    "import numpy as np\n",
    "import os\n",
    "\n",
    "os.chdir('/data/p_dsi/teams2023/team9/')\n",
    "\n",
    "df = pd.read_csv('Asurion_clean_data_seasons_holidays.csv')\n",
    "\n",
    "df = df[df[\"company\"] == \"apple\"]\n",
    "\n",
    "print(df.head())\n",
    "print(df.groupby(\"phone model\")[\"phone model\"].count())"
   ]
  },
  {
   "cell_type": "markdown",
   "id": "4c57b2df",
   "metadata": {},
   "source": [
    "### Subset by each model\n",
    "> Now we want to subset the data into the grouped models for the X - 14"
   ]
  },
  {
   "cell_type": "code",
   "execution_count": 2,
   "id": "ecf1f511",
   "metadata": {},
   "outputs": [
    {
     "name": "stdout",
     "output_type": "stream",
     "text": [
      "       phone model phone size phone color  claim weeks_monday    month  year  \\\n",
      "1  apple iphone 11      128gb       black    252   2022-01-24  January  2022   \n",
      "2  apple iphone 11      128gb       green     45   2022-01-24  January  2022   \n",
      "3  apple iphone 11      128gb      purple     92   2022-01-24  January  2022   \n",
      "4  apple iphone 11      128gb         red     69   2022-01-24  January  2022   \n",
      "5  apple iphone 11      128gb       white     91   2022-01-24  January  2022   \n",
      "\n",
      "   season quarter  Holidays_Boolean company model_group  \n",
      "1  winter      Q1             False   apple   iphone 11  \n",
      "2  winter      Q1             False   apple   iphone 11  \n",
      "3  winter      Q1             False   apple   iphone 11  \n",
      "4  winter      Q1             False   apple   iphone 11  \n",
      "5  winter      Q1             False   apple   iphone 11  \n",
      "                          claims\n",
      "weeks_monday model_group        \n",
      "2021-06-28   iphone 11      1499\n",
      "             iphone 12       422\n",
      "             iphone se        55\n",
      "             iphone x       1297\n",
      "2021-07-05   iphone 11      4068\n"
     ]
    }
   ],
   "source": [
    "# Subsetting into groups\n",
    "df[\"model_group\"] = np.where(df[\"phone model\"].str.startswith(\"apple iphone x\"), \"iphone x\",\n",
    "                    np.where(df[\"phone model\"].str.startswith(\"apple iphone 11\"), \"iphone 11\",\n",
    "                    np.where(df[\"phone model\"].str.startswith(\"apple iphone 12\"), \"iphone 12\",\n",
    "                    np.where(df[\"phone model\"].str.startswith(\"apple iphone 13\"), \"iphone 13\",\n",
    "                    np.where(df[\"phone model\"].str.startswith(\"apple iphone 14\"), \"iphone 14\", \n",
    "                    np.where(df[\"phone model\"].str.startswith(\"apple iphone se\"), \"iphone se\", \"other\"))))))\n",
    "\n",
    "# Removing any in group \"other\"\n",
    "df = df[df[\"model_group\"] != \"other\"]\n",
    "\n",
    "print(df.head())\n",
    "\n",
    "test = df.groupby([\"weeks_monday\", \"model_group\"]).agg({\"claim\": [\"sum\"]})\n",
    "test.columns = [\"claims\"]\n",
    "print(test.head())"
   ]
  },
  {
   "cell_type": "markdown",
   "id": "041e0ba5",
   "metadata": {},
   "source": [
    "# Writing output file"
   ]
  },
  {
   "cell_type": "code",
   "execution_count": 3,
   "id": "83db9f56",
   "metadata": {},
   "outputs": [],
   "source": [
    "# Commented out since it has already been run to write the file.\n",
    "\n",
    "# df.to_csv('Asurion_clean_data_feature_set.csv', index = False)"
   ]
  }
 ],
 "metadata": {
  "kernelspec": {
   "display_name": "Python 3 (ipykernel)",
   "language": "python",
   "name": "python3"
  },
  "language_info": {
   "codemirror_mode": {
    "name": "ipython",
    "version": 3
   },
   "file_extension": ".py",
   "mimetype": "text/x-python",
   "name": "python",
   "nbconvert_exporter": "python",
   "pygments_lexer": "ipython3",
   "version": "3.9.12"
  }
 },
 "nbformat": 4,
 "nbformat_minor": 5
}
