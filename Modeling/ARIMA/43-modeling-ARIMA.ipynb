{
 "cells": [
  {
   "cell_type": "markdown",
   "metadata": {},
   "source": [
    "# 43-modeling-ARIMA\n",
    "\n",
    "> This notebook uses ARIMA to predict iPhone 13 claims data for March 2023. The notebook is strictly only using iPhone 13 data. The purpose of the notebook is to understand how to use ARIMA and get some ideas on how to apply ARIMA when using iPhone 14. This notebook was shown during the team's peer review meeting. As discussed, the notebook though focused on iPhone 13 will be pushed onto GitHub."
   ]
  },
  {
   "cell_type": "code",
   "execution_count": 1,
   "metadata": {},
   "outputs": [],
   "source": [
    "import pandas as pd\n",
    "import numpy as np\n",
    "import seaborn as sns\n",
    "import matplotlib.pyplot as plt\n",
    "\n",
    "import pmdarima as pm\n",
    "\n",
    "import os\n",
    "\n",
    "from sklearn.metrics import mean_absolute_error, mean_absolute_percentage_error, mean_squared_error\n",
    "from statsmodels.graphics.tsaplots import plot_acf, plot_pacf\n",
    "from statsmodels.tsa.ar_model import AutoReg\n",
    "from pmdarima.arima import ADFTest\n",
    "from statsmodels.tsa.stattools import adfuller\n",
    "from statsmodels.tsa.arima.model import ARIMA"
   ]
  },
  {
   "cell_type": "markdown",
   "metadata": {},
   "source": [
    "# Load the data"
   ]
  },
  {
   "cell_type": "code",
   "execution_count": 2,
   "metadata": {},
   "outputs": [
    {
     "data": {
      "text/plain": [
       "'/gpfs52/data/p_dsi/teams2023/team9'"
      ]
     },
     "execution_count": 2,
     "metadata": {},
     "output_type": "execute_result"
    }
   ],
   "source": [
    "#Constants/globals\n",
    "os.chdir('/data/p_dsi/teams2023/team9/')\n",
    "os.getcwd()"
   ]
  },
  {
   "cell_type": "code",
   "execution_count": 4,
   "metadata": {},
   "outputs": [
    {
     "name": "stdout",
     "output_type": "stream",
     "text": [
      "<class 'pandas.core.frame.DataFrame'>\n",
      "RangeIndex: 11684 entries, 0 to 11683\n",
      "Data columns (total 12 columns):\n",
      " #   Column            Non-Null Count  Dtype \n",
      "---  ------            --------------  ----- \n",
      " 0   phone model       11684 non-null  object\n",
      " 1   phone size        11684 non-null  object\n",
      " 2   phone color       11684 non-null  object\n",
      " 3   claim             11684 non-null  int64 \n",
      " 4   weeks_monday      11684 non-null  object\n",
      " 5   month             11684 non-null  object\n",
      " 6   year              11684 non-null  int64 \n",
      " 7   season            11684 non-null  object\n",
      " 8   quarter           11684 non-null  object\n",
      " 9   Holidays_Boolean  11684 non-null  bool  \n",
      " 10  company           11684 non-null  object\n",
      " 11  model_group       11684 non-null  object\n",
      "dtypes: bool(1), int64(2), object(9)\n",
      "memory usage: 1015.6+ KB\n"
     ]
    },
    {
     "data": {
      "text/plain": [
       "None"
      ]
     },
     "metadata": {},
     "output_type": "display_data"
    },
    {
     "data": {
      "text/html": [
       "<div>\n",
       "<style scoped>\n",
       "    .dataframe tbody tr th:only-of-type {\n",
       "        vertical-align: middle;\n",
       "    }\n",
       "\n",
       "    .dataframe tbody tr th {\n",
       "        vertical-align: top;\n",
       "    }\n",
       "\n",
       "    .dataframe thead th {\n",
       "        text-align: right;\n",
       "    }\n",
       "</style>\n",
       "<table border=\"1\" class=\"dataframe\">\n",
       "  <thead>\n",
       "    <tr style=\"text-align: right;\">\n",
       "      <th></th>\n",
       "      <th>phone model</th>\n",
       "      <th>phone size</th>\n",
       "      <th>phone color</th>\n",
       "      <th>claim</th>\n",
       "      <th>weeks_monday</th>\n",
       "      <th>month</th>\n",
       "      <th>year</th>\n",
       "      <th>season</th>\n",
       "      <th>quarter</th>\n",
       "      <th>Holidays_Boolean</th>\n",
       "      <th>company</th>\n",
       "      <th>model_group</th>\n",
       "    </tr>\n",
       "  </thead>\n",
       "  <tbody>\n",
       "    <tr>\n",
       "      <th>0</th>\n",
       "      <td>apple iphone 11</td>\n",
       "      <td>128gb</td>\n",
       "      <td>black</td>\n",
       "      <td>252</td>\n",
       "      <td>2022-01-24</td>\n",
       "      <td>January</td>\n",
       "      <td>2022</td>\n",
       "      <td>winter</td>\n",
       "      <td>Q1</td>\n",
       "      <td>False</td>\n",
       "      <td>apple</td>\n",
       "      <td>iphone 11</td>\n",
       "    </tr>\n",
       "    <tr>\n",
       "      <th>1</th>\n",
       "      <td>apple iphone 11</td>\n",
       "      <td>128gb</td>\n",
       "      <td>green</td>\n",
       "      <td>45</td>\n",
       "      <td>2022-01-24</td>\n",
       "      <td>January</td>\n",
       "      <td>2022</td>\n",
       "      <td>winter</td>\n",
       "      <td>Q1</td>\n",
       "      <td>False</td>\n",
       "      <td>apple</td>\n",
       "      <td>iphone 11</td>\n",
       "    </tr>\n",
       "    <tr>\n",
       "      <th>2</th>\n",
       "      <td>apple iphone 11</td>\n",
       "      <td>128gb</td>\n",
       "      <td>purple</td>\n",
       "      <td>92</td>\n",
       "      <td>2022-01-24</td>\n",
       "      <td>January</td>\n",
       "      <td>2022</td>\n",
       "      <td>winter</td>\n",
       "      <td>Q1</td>\n",
       "      <td>False</td>\n",
       "      <td>apple</td>\n",
       "      <td>iphone 11</td>\n",
       "    </tr>\n",
       "    <tr>\n",
       "      <th>3</th>\n",
       "      <td>apple iphone 11</td>\n",
       "      <td>128gb</td>\n",
       "      <td>red</td>\n",
       "      <td>69</td>\n",
       "      <td>2022-01-24</td>\n",
       "      <td>January</td>\n",
       "      <td>2022</td>\n",
       "      <td>winter</td>\n",
       "      <td>Q1</td>\n",
       "      <td>False</td>\n",
       "      <td>apple</td>\n",
       "      <td>iphone 11</td>\n",
       "    </tr>\n",
       "    <tr>\n",
       "      <th>4</th>\n",
       "      <td>apple iphone 11</td>\n",
       "      <td>128gb</td>\n",
       "      <td>white</td>\n",
       "      <td>91</td>\n",
       "      <td>2022-01-24</td>\n",
       "      <td>January</td>\n",
       "      <td>2022</td>\n",
       "      <td>winter</td>\n",
       "      <td>Q1</td>\n",
       "      <td>False</td>\n",
       "      <td>apple</td>\n",
       "      <td>iphone 11</td>\n",
       "    </tr>\n",
       "    <tr>\n",
       "      <th>5</th>\n",
       "      <td>apple iphone 11</td>\n",
       "      <td>128gb</td>\n",
       "      <td>yellow</td>\n",
       "      <td>5</td>\n",
       "      <td>2022-01-24</td>\n",
       "      <td>January</td>\n",
       "      <td>2022</td>\n",
       "      <td>winter</td>\n",
       "      <td>Q1</td>\n",
       "      <td>False</td>\n",
       "      <td>apple</td>\n",
       "      <td>iphone 11</td>\n",
       "    </tr>\n",
       "    <tr>\n",
       "      <th>6</th>\n",
       "      <td>apple iphone 11</td>\n",
       "      <td>256gb</td>\n",
       "      <td>black</td>\n",
       "      <td>24</td>\n",
       "      <td>2022-01-24</td>\n",
       "      <td>January</td>\n",
       "      <td>2022</td>\n",
       "      <td>winter</td>\n",
       "      <td>Q1</td>\n",
       "      <td>False</td>\n",
       "      <td>apple</td>\n",
       "      <td>iphone 11</td>\n",
       "    </tr>\n",
       "    <tr>\n",
       "      <th>7</th>\n",
       "      <td>apple iphone 11</td>\n",
       "      <td>256gb</td>\n",
       "      <td>green</td>\n",
       "      <td>3</td>\n",
       "      <td>2022-01-24</td>\n",
       "      <td>January</td>\n",
       "      <td>2022</td>\n",
       "      <td>winter</td>\n",
       "      <td>Q1</td>\n",
       "      <td>False</td>\n",
       "      <td>apple</td>\n",
       "      <td>iphone 11</td>\n",
       "    </tr>\n",
       "    <tr>\n",
       "      <th>8</th>\n",
       "      <td>apple iphone 11</td>\n",
       "      <td>256gb</td>\n",
       "      <td>purple</td>\n",
       "      <td>7</td>\n",
       "      <td>2022-01-24</td>\n",
       "      <td>January</td>\n",
       "      <td>2022</td>\n",
       "      <td>winter</td>\n",
       "      <td>Q1</td>\n",
       "      <td>False</td>\n",
       "      <td>apple</td>\n",
       "      <td>iphone 11</td>\n",
       "    </tr>\n",
       "    <tr>\n",
       "      <th>9</th>\n",
       "      <td>apple iphone 11</td>\n",
       "      <td>256gb</td>\n",
       "      <td>red</td>\n",
       "      <td>9</td>\n",
       "      <td>2022-01-24</td>\n",
       "      <td>January</td>\n",
       "      <td>2022</td>\n",
       "      <td>winter</td>\n",
       "      <td>Q1</td>\n",
       "      <td>False</td>\n",
       "      <td>apple</td>\n",
       "      <td>iphone 11</td>\n",
       "    </tr>\n",
       "  </tbody>\n",
       "</table>\n",
       "</div>"
      ],
      "text/plain": [
       "       phone model phone size phone color  claim weeks_monday    month  year  \\\n",
       "0  apple iphone 11      128gb       black    252   2022-01-24  January  2022   \n",
       "1  apple iphone 11      128gb       green     45   2022-01-24  January  2022   \n",
       "2  apple iphone 11      128gb      purple     92   2022-01-24  January  2022   \n",
       "3  apple iphone 11      128gb         red     69   2022-01-24  January  2022   \n",
       "4  apple iphone 11      128gb       white     91   2022-01-24  January  2022   \n",
       "5  apple iphone 11      128gb      yellow      5   2022-01-24  January  2022   \n",
       "6  apple iphone 11      256gb       black     24   2022-01-24  January  2022   \n",
       "7  apple iphone 11      256gb       green      3   2022-01-24  January  2022   \n",
       "8  apple iphone 11      256gb      purple      7   2022-01-24  January  2022   \n",
       "9  apple iphone 11      256gb         red      9   2022-01-24  January  2022   \n",
       "\n",
       "   season quarter  Holidays_Boolean company model_group  \n",
       "0  winter      Q1             False   apple   iphone 11  \n",
       "1  winter      Q1             False   apple   iphone 11  \n",
       "2  winter      Q1             False   apple   iphone 11  \n",
       "3  winter      Q1             False   apple   iphone 11  \n",
       "4  winter      Q1             False   apple   iphone 11  \n",
       "5  winter      Q1             False   apple   iphone 11  \n",
       "6  winter      Q1             False   apple   iphone 11  \n",
       "7  winter      Q1             False   apple   iphone 11  \n",
       "8  winter      Q1             False   apple   iphone 11  \n",
       "9  winter      Q1             False   apple   iphone 11  "
      ]
     },
     "execution_count": 4,
     "metadata": {},
     "output_type": "execute_result"
    }
   ],
   "source": [
    "#load the data\n",
    "data = pd.read_csv(\"Asurion_clean_data_feature_set.csv\")\n",
    "display(data.info())\n",
    "data.head(10)"
   ]
  },
  {
   "cell_type": "code",
   "execution_count": 5,
   "metadata": {},
   "outputs": [
    {
     "name": "stdout",
     "output_type": "stream",
     "text": [
      "   weeks_monday  claim\n",
      "0    2021-11-15      2\n",
      "1    2021-11-22      3\n",
      "2    2021-11-29      6\n",
      "3    2021-12-06      2\n",
      "4    2021-12-13     10\n",
      "..          ...    ...\n",
      "61   2023-01-16   3828\n",
      "62   2023-01-23   4090\n",
      "63   2023-01-30   3740\n",
      "64   2023-02-06   4270\n",
      "65   2023-02-13    847\n",
      "\n",
      "[66 rows x 2 columns]\n",
      "<class 'pandas.core.frame.DataFrame'>\n",
      "RangeIndex: 66 entries, 0 to 65\n",
      "Data columns (total 2 columns):\n",
      " #   Column        Non-Null Count  Dtype \n",
      "---  ------        --------------  ----- \n",
      " 0   weeks_monday  66 non-null     object\n",
      " 1   claim         66 non-null     int64 \n",
      "dtypes: int64(1), object(1)\n",
      "memory usage: 1.2+ KB\n"
     ]
    },
    {
     "data": {
      "text/plain": [
       "None"
      ]
     },
     "metadata": {},
     "output_type": "display_data"
    },
    {
     "data": {
      "text/plain": [
       "<AxesSubplot:>"
      ]
     },
     "execution_count": 5,
     "metadata": {},
     "output_type": "execute_result"
    },
    {
     "data": {
      "image/png": "[encoded data removed]",
      "text/plain": [
       "<Figure size 432x288 with 1 Axes>"
      ]
     },
     "metadata": {
      "needs_background": "light"
     },
     "output_type": "display_data"
    }
   ],
   "source": [
    "iphone13 = data[data[\"model_group\"] == \"iphone 13\"]\n",
    "result_iphone_13 = iphone13.groupby(['weeks_monday'], as_index = False).agg({'claim': np.sum})\n",
    "\n",
    "\n",
    "print(result_iphone_13)\n",
    "display(result_iphone_13.info())\n",
    "result_iphone_13.plot()"
   ]
  },
  {
   "cell_type": "code",
   "execution_count": 6,
   "metadata": {},
   "outputs": [
    {
     "data": {
      "text/html": [
       "<div>\n",
       "<style scoped>\n",
       "    .dataframe tbody tr th:only-of-type {\n",
       "        vertical-align: middle;\n",
       "    }\n",
       "\n",
       "    .dataframe tbody tr th {\n",
       "        vertical-align: top;\n",
       "    }\n",
       "\n",
       "    .dataframe thead th {\n",
       "        text-align: right;\n",
       "    }\n",
       "</style>\n",
       "<table border=\"1\" class=\"dataframe\">\n",
       "  <thead>\n",
       "    <tr style=\"text-align: right;\">\n",
       "      <th></th>\n",
       "      <th>weeks_monday</th>\n",
       "      <th>claim</th>\n",
       "    </tr>\n",
       "  </thead>\n",
       "  <tbody>\n",
       "    <tr>\n",
       "      <th>0</th>\n",
       "      <td>2021-11-15</td>\n",
       "      <td>2</td>\n",
       "    </tr>\n",
       "    <tr>\n",
       "      <th>1</th>\n",
       "      <td>2021-11-22</td>\n",
       "      <td>3</td>\n",
       "    </tr>\n",
       "    <tr>\n",
       "      <th>2</th>\n",
       "      <td>2021-11-29</td>\n",
       "      <td>6</td>\n",
       "    </tr>\n",
       "    <tr>\n",
       "      <th>3</th>\n",
       "      <td>2021-12-06</td>\n",
       "      <td>2</td>\n",
       "    </tr>\n",
       "    <tr>\n",
       "      <th>4</th>\n",
       "      <td>2021-12-13</td>\n",
       "      <td>10</td>\n",
       "    </tr>\n",
       "    <tr>\n",
       "      <th>...</th>\n",
       "      <td>...</td>\n",
       "      <td>...</td>\n",
       "    </tr>\n",
       "    <tr>\n",
       "      <th>60</th>\n",
       "      <td>2023-01-09</td>\n",
       "      <td>3616</td>\n",
       "    </tr>\n",
       "    <tr>\n",
       "      <th>61</th>\n",
       "      <td>2023-01-16</td>\n",
       "      <td>3828</td>\n",
       "    </tr>\n",
       "    <tr>\n",
       "      <th>62</th>\n",
       "      <td>2023-01-23</td>\n",
       "      <td>4090</td>\n",
       "    </tr>\n",
       "    <tr>\n",
       "      <th>63</th>\n",
       "      <td>2023-01-30</td>\n",
       "      <td>3740</td>\n",
       "    </tr>\n",
       "    <tr>\n",
       "      <th>64</th>\n",
       "      <td>2023-02-06</td>\n",
       "      <td>4270</td>\n",
       "    </tr>\n",
       "  </tbody>\n",
       "</table>\n",
       "<p>65 rows × 2 columns</p>\n",
       "</div>"
      ],
      "text/plain": [
       "   weeks_monday  claim\n",
       "0    2021-11-15      2\n",
       "1    2021-11-22      3\n",
       "2    2021-11-29      6\n",
       "3    2021-12-06      2\n",
       "4    2021-12-13     10\n",
       "..          ...    ...\n",
       "60   2023-01-09   3616\n",
       "61   2023-01-16   3828\n",
       "62   2023-01-23   4090\n",
       "63   2023-01-30   3740\n",
       "64   2023-02-06   4270\n",
       "\n",
       "[65 rows x 2 columns]"
      ]
     },
     "metadata": {},
     "output_type": "display_data"
    },
    {
     "data": {
      "text/plain": [
       "Text(0.5, 1.0, 'iPhone 13 Claims Data without Outlier')"
      ]
     },
     "execution_count": 6,
     "metadata": {},
     "output_type": "execute_result"
    },
    {
     "data": {
      "image/png": "[encoded data removed]",
      "text/plain": [
       "<Figure size 432x288 with 1 Axes>"
      ]
     },
     "metadata": {
      "needs_background": "light"
     },
     "output_type": "display_data"
    }
   ],
   "source": [
    "# Removing last data point as recommended by professor, we have reason to think that the data is an outlier due to\n",
    "# the data being incomplete\n",
    "\n",
    "result_iphone_13 = result_iphone_13[:65]\n",
    "\n",
    "display(result_iphone_13)\n",
    "\n",
    "result_iphone_13.plot()\n",
    "plt.title(\"iPhone 13 Claims Data without Outlier\")"
   ]
  },
  {
   "cell_type": "code",
   "execution_count": 7,
   "metadata": {},
   "outputs": [
    {
     "name": "stderr",
     "output_type": "stream",
     "text": [
      "/tmp/ipykernel_28412/1912083778.py:1: SettingWithCopyWarning: \n",
      "A value is trying to be set on a copy of a slice from a DataFrame.\n",
      "Try using .loc[row_indexer,col_indexer] = value instead\n",
      "\n",
      "See the caveats in the documentation: https://pandas.pydata.org/pandas-docs/stable/user_guide/indexing.html#returning-a-view-versus-a-copy\n",
      "  result_iphone_13['weeks_monday'] = pd.to_datetime(result_iphone_13['weeks_monday'])\n"
     ]
    }
   ],
   "source": [
    "result_iphone_13['weeks_monday'] = pd.to_datetime(result_iphone_13['weeks_monday'])\n",
    "result_iphone_13.set_index('weeks_monday', inplace = True)\n",
    "# Changed up result_iphone_13 so it can use the weeks_monday"
   ]
  },
  {
   "cell_type": "code",
   "execution_count": 8,
   "metadata": {},
   "outputs": [
    {
     "data": {
      "text/html": [
       "<div>\n",
       "<style scoped>\n",
       "    .dataframe tbody tr th:only-of-type {\n",
       "        vertical-align: middle;\n",
       "    }\n",
       "\n",
       "    .dataframe tbody tr th {\n",
       "        vertical-align: top;\n",
       "    }\n",
       "\n",
       "    .dataframe thead th {\n",
       "        text-align: right;\n",
       "    }\n",
       "</style>\n",
       "<table border=\"1\" class=\"dataframe\">\n",
       "  <thead>\n",
       "    <tr style=\"text-align: right;\">\n",
       "      <th></th>\n",
       "      <th>claim</th>\n",
       "    </tr>\n",
       "    <tr>\n",
       "      <th>weeks_monday</th>\n",
       "      <th></th>\n",
       "    </tr>\n",
       "  </thead>\n",
       "  <tbody>\n",
       "    <tr>\n",
       "      <th>2021-11-15</th>\n",
       "      <td>2</td>\n",
       "    </tr>\n",
       "    <tr>\n",
       "      <th>2021-11-22</th>\n",
       "      <td>3</td>\n",
       "    </tr>\n",
       "    <tr>\n",
       "      <th>2021-11-29</th>\n",
       "      <td>6</td>\n",
       "    </tr>\n",
       "    <tr>\n",
       "      <th>2021-12-06</th>\n",
       "      <td>2</td>\n",
       "    </tr>\n",
       "    <tr>\n",
       "      <th>2021-12-13</th>\n",
       "      <td>10</td>\n",
       "    </tr>\n",
       "  </tbody>\n",
       "</table>\n",
       "</div>"
      ],
      "text/plain": [
       "              claim\n",
       "weeks_monday       \n",
       "2021-11-15        2\n",
       "2021-11-22        3\n",
       "2021-11-29        6\n",
       "2021-12-06        2\n",
       "2021-12-13       10"
      ]
     },
     "metadata": {},
     "output_type": "display_data"
    },
    {
     "name": "stdout",
     "output_type": "stream",
     "text": [
      "<class 'pandas.core.frame.DataFrame'>\n",
      "DatetimeIndex: 65 entries, 2021-11-15 to 2023-02-06\n",
      "Data columns (total 1 columns):\n",
      " #   Column  Non-Null Count  Dtype\n",
      "---  ------  --------------  -----\n",
      " 0   claim   65 non-null     int64\n",
      "dtypes: int64(1)\n",
      "memory usage: 1.0 KB\n"
     ]
    }
   ],
   "source": [
    "# Making a copy of the data for the v2 ARIMA/SARIMA model\n",
    "result_iphone_13_v2 = result_iphone_13.copy()\n",
    "\n",
    "# Making a copy of the data for the manual ARIMA/SARIMA model version example\n",
    "result_iphone_13_vmanual = result_iphone_13.copy()\n",
    "\n",
    "display(result_iphone_13.head())\n",
    "result_iphone_13.info()"
   ]
  },
  {
   "cell_type": "code",
   "execution_count": 9,
   "metadata": {},
   "outputs": [
    {
     "data": {
      "text/plain": [
       "Text(0.5, 1.0, 'iPhone 13 Claims Data')"
      ]
     },
     "execution_count": 9,
     "metadata": {},
     "output_type": "execute_result"
    },
    {
     "data": {
      "image/png": "[encoded data removed]",
      "text/plain": [
       "<Figure size 432x288 with 1 Axes>"
      ]
     },
     "metadata": {
      "needs_background": "light"
     },
     "output_type": "display_data"
    }
   ],
   "source": [
    "result_iphone_13.plot()\n",
    "plt.title(\"iPhone 13 Claims Data\")\n",
    "# Plot has x-axis as weeks_monday"
   ]
  },
  {
   "cell_type": "markdown",
   "metadata": {},
   "source": [
    "## ARIMA Model - Manual Version\n",
    "> Note that the resulting values to pick for p, d, q, through the manual version ends up being the same as using auto_arima. Thus, I think moving forwards we can generally use auto_arima for the calculations"
   ]
  },
  {
   "cell_type": "code",
   "execution_count": 10,
   "metadata": {},
   "outputs": [
    {
     "name": "stderr",
     "output_type": "stream",
     "text": [
      "/home/leet23/.local/lib/python3.9/site-packages/statsmodels/graphics/tsaplots.py:348: FutureWarning: The default method 'yw' can produce PACF values outside of the [-1,1] interval. After 0.13, the default will change tounadjusted Yule-Walker ('ywm'). You can use this method now by setting method='ywm'.\n",
      "  warnings.warn(\n"
     ]
    },
    {
     "data": {
      "image/png": "[encoded data removed]",
      "text/plain": [
       "<Figure size 432x288 with 1 Axes>"
      ]
     },
     "metadata": {
      "needs_background": "light"
     },
     "output_type": "display_data"
    },
    {
     "data": {
      "image/png": "[encoded data removed]",
      "text/plain": [
       "<Figure size 432x288 with 1 Axes>"
      ]
     },
     "metadata": {
      "needs_background": "light"
     },
     "output_type": "display_data"
    }
   ],
   "source": [
    "df_train_manual = result_iphone_13_vmanual[:51]\n",
    "df_test_manual = result_iphone_13_vmanual[-14:]\n",
    "\n",
    "\n",
    "acf_original = plot_acf(df_train_manual)\n",
    "\n",
    "pacf_original = plot_pacf(df_train_manual)"
   ]
  },
  {
   "cell_type": "code",
   "execution_count": 11,
   "metadata": {},
   "outputs": [
    {
     "name": "stdout",
     "output_type": "stream",
     "text": [
      "p-value: 0.9900087708925223\n"
     ]
    }
   ],
   "source": [
    "adf_test = adfuller(df_train_manual)\n",
    "print(f'p-value: {adf_test[1]}')\n",
    "\n",
    "# ADF test suggests our data is non-stationary"
   ]
  },
  {
   "cell_type": "markdown",
   "metadata": {},
   "source": [
    "#### ARIMA - Manual - Doing Differencing"
   ]
  },
  {
   "cell_type": "code",
   "execution_count": 12,
   "metadata": {},
   "outputs": [
    {
     "name": "stderr",
     "output_type": "stream",
     "text": [
      "/home/leet23/.local/lib/python3.9/site-packages/statsmodels/graphics/tsaplots.py:348: FutureWarning: The default method 'yw' can produce PACF values outside of the [-1,1] interval. After 0.13, the default will change tounadjusted Yule-Walker ('ywm'). You can use this method now by setting method='ywm'.\n",
      "  warnings.warn(\n"
     ]
    },
    {
     "data": {
      "image/png": "[encoded data removed]",
      "text/plain": [
       "<Figure size 432x288 with 1 Axes>"
      ]
     },
     "metadata": {
      "needs_background": "light"
     },
     "output_type": "display_data"
    },
    {
     "data": {
      "image/png": "[encoded data removed]",
      "text/plain": [
       "<Figure size 432x288 with 1 Axes>"
      ]
     },
     "metadata": {
      "needs_background": "light"
     },
     "output_type": "display_data"
    },
    {
     "data": {
      "image/png": "[encoded data removed]",
      "text/plain": [
       "<Figure size 432x288 with 1 Axes>"
      ]
     },
     "metadata": {
      "needs_background": "light"
     },
     "output_type": "display_data"
    }
   ],
   "source": [
    "# Use dropna to avoid the first value that appears from doing differncing\n",
    "df_train_diff = df_train_manual.diff().dropna() \n",
    "\n",
    "df_train_diff.plot()\n",
    "\n",
    "# Repeat by doing the ACF and PACF on the differenced data\n",
    "acf_diff = plot_acf(df_train_diff) \n",
    "pacf_diff = plot_pacf(df_train_diff)"
   ]
  },
  {
   "cell_type": "code",
   "execution_count": 13,
   "metadata": {},
   "outputs": [
    {
     "name": "stdout",
     "output_type": "stream",
     "text": [
      "p-value: 1.4160552973273805e-10\n"
     ]
    }
   ],
   "source": [
    "adf_test = adfuller(df_train_diff)\n",
    "print(f'p-value: {adf_test[1]}')\n",
    "\n",
    "# This suggests that the d = 1\n",
    "# Given the above graphics, we can conclude through manual arima that it's (0, 1, 0) for (p, d, q)"
   ]
  },
  {
   "cell_type": "code",
   "execution_count": 14,
   "metadata": {},
   "outputs": [
    {
     "name": "stderr",
     "output_type": "stream",
     "text": [
      "/home/leet23/.local/lib/python3.9/site-packages/statsmodels/tsa/base/tsa_model.py:471: ValueWarning: No frequency information was provided, so inferred frequency W-MON will be used.\n",
      "  self._init_dates(dates, freq)\n",
      "/home/leet23/.local/lib/python3.9/site-packages/statsmodels/tsa/base/tsa_model.py:471: ValueWarning: No frequency information was provided, so inferred frequency W-MON will be used.\n",
      "  self._init_dates(dates, freq)\n",
      "/home/leet23/.local/lib/python3.9/site-packages/statsmodels/tsa/base/tsa_model.py:471: ValueWarning: No frequency information was provided, so inferred frequency W-MON will be used.\n",
      "  self._init_dates(dates, freq)\n"
     ]
    },
    {
     "name": "stdout",
     "output_type": "stream",
     "text": [
      "                               SARIMAX Results                                \n",
      "==============================================================================\n",
      "Dep. Variable:                  claim   No. Observations:                   51\n",
      "Model:                 ARIMA(0, 1, 0)   Log Likelihood                -322.738\n",
      "Date:                Wed, 29 Mar 2023   AIC                            647.475\n",
      "Time:                        01:17:59   BIC                            649.387\n",
      "Sample:                    11-15-2021   HQIC                           648.203\n",
      "                         - 10-31-2022                                         \n",
      "Covariance Type:                  opg                                         \n",
      "==============================================================================\n",
      "                 coef    std err          z      P>|z|      [0.025      0.975]\n",
      "------------------------------------------------------------------------------\n",
      "sigma2      2.366e+04   2789.973      8.480      0.000    1.82e+04    2.91e+04\n",
      "===================================================================================\n",
      "Ljung-Box (L1) (Q):                   0.24   Jarque-Bera (JB):                37.45\n",
      "Prob(Q):                              0.63   Prob(JB):                         0.00\n",
      "Heteroskedasticity (H):              35.42   Skew:                             1.50\n",
      "Prob(H) (two-sided):                  0.00   Kurtosis:                         5.99\n",
      "===================================================================================\n",
      "\n",
      "Warnings:\n",
      "[1] Covariance matrix calculated using the outer product of gradients (complex-step).\n"
     ]
    }
   ],
   "source": [
    "model = ARIMA(df_train_manual, order=(0,1,0))\n",
    "model_fit = model.fit()\n",
    "print(model_fit.summary())"
   ]
  },
  {
   "cell_type": "markdown",
   "metadata": {},
   "source": [
    "## ARIMA Model - Auto_ARIMA\n",
    "\n",
    "> The auto_arima calculated values turned out to be (0,1,0) which is the same as the manual arima."
   ]
  },
  {
   "cell_type": "code",
   "execution_count": 15,
   "metadata": {},
   "outputs": [
    {
     "data": {
      "text/html": [
       "<div>\n",
       "<style scoped>\n",
       "    .dataframe tbody tr th:only-of-type {\n",
       "        vertical-align: middle;\n",
       "    }\n",
       "\n",
       "    .dataframe tbody tr th {\n",
       "        vertical-align: top;\n",
       "    }\n",
       "\n",
       "    .dataframe thead th {\n",
       "        text-align: right;\n",
       "    }\n",
       "</style>\n",
       "<table border=\"1\" class=\"dataframe\">\n",
       "  <thead>\n",
       "    <tr style=\"text-align: right;\">\n",
       "      <th></th>\n",
       "      <th>claim</th>\n",
       "    </tr>\n",
       "    <tr>\n",
       "      <th>weeks_monday</th>\n",
       "      <th></th>\n",
       "    </tr>\n",
       "  </thead>\n",
       "  <tbody>\n",
       "    <tr>\n",
       "      <th>2021-11-15</th>\n",
       "      <td>2</td>\n",
       "    </tr>\n",
       "    <tr>\n",
       "      <th>2021-11-22</th>\n",
       "      <td>3</td>\n",
       "    </tr>\n",
       "    <tr>\n",
       "      <th>2021-11-29</th>\n",
       "      <td>6</td>\n",
       "    </tr>\n",
       "    <tr>\n",
       "      <th>2021-12-06</th>\n",
       "      <td>2</td>\n",
       "    </tr>\n",
       "    <tr>\n",
       "      <th>2021-12-13</th>\n",
       "      <td>10</td>\n",
       "    </tr>\n",
       "    <tr>\n",
       "      <th>2021-12-20</th>\n",
       "      <td>6</td>\n",
       "    </tr>\n",
       "    <tr>\n",
       "      <th>2021-12-27</th>\n",
       "      <td>15</td>\n",
       "    </tr>\n",
       "    <tr>\n",
       "      <th>2022-01-03</th>\n",
       "      <td>7</td>\n",
       "    </tr>\n",
       "    <tr>\n",
       "      <th>2022-01-10</th>\n",
       "      <td>13</td>\n",
       "    </tr>\n",
       "    <tr>\n",
       "      <th>2022-01-17</th>\n",
       "      <td>10</td>\n",
       "    </tr>\n",
       "    <tr>\n",
       "      <th>2022-01-24</th>\n",
       "      <td>11</td>\n",
       "    </tr>\n",
       "    <tr>\n",
       "      <th>2022-01-31</th>\n",
       "      <td>25</td>\n",
       "    </tr>\n",
       "    <tr>\n",
       "      <th>2022-02-07</th>\n",
       "      <td>76</td>\n",
       "    </tr>\n",
       "    <tr>\n",
       "      <th>2022-02-14</th>\n",
       "      <td>100</td>\n",
       "    </tr>\n",
       "    <tr>\n",
       "      <th>2022-02-21</th>\n",
       "      <td>112</td>\n",
       "    </tr>\n",
       "    <tr>\n",
       "      <th>2022-02-28</th>\n",
       "      <td>138</td>\n",
       "    </tr>\n",
       "    <tr>\n",
       "      <th>2022-03-07</th>\n",
       "      <td>234</td>\n",
       "    </tr>\n",
       "    <tr>\n",
       "      <th>2022-03-14</th>\n",
       "      <td>310</td>\n",
       "    </tr>\n",
       "    <tr>\n",
       "      <th>2022-03-21</th>\n",
       "      <td>333</td>\n",
       "    </tr>\n",
       "    <tr>\n",
       "      <th>2022-03-28</th>\n",
       "      <td>505</td>\n",
       "    </tr>\n",
       "    <tr>\n",
       "      <th>2022-04-04</th>\n",
       "      <td>579</td>\n",
       "    </tr>\n",
       "    <tr>\n",
       "      <th>2022-04-11</th>\n",
       "      <td>581</td>\n",
       "    </tr>\n",
       "    <tr>\n",
       "      <th>2022-04-18</th>\n",
       "      <td>872</td>\n",
       "    </tr>\n",
       "    <tr>\n",
       "      <th>2022-04-25</th>\n",
       "      <td>833</td>\n",
       "    </tr>\n",
       "    <tr>\n",
       "      <th>2022-05-02</th>\n",
       "      <td>878</td>\n",
       "    </tr>\n",
       "    <tr>\n",
       "      <th>2022-05-09</th>\n",
       "      <td>951</td>\n",
       "    </tr>\n",
       "    <tr>\n",
       "      <th>2022-05-16</th>\n",
       "      <td>1042</td>\n",
       "    </tr>\n",
       "    <tr>\n",
       "      <th>2022-05-23</th>\n",
       "      <td>1321</td>\n",
       "    </tr>\n",
       "    <tr>\n",
       "      <th>2022-05-30</th>\n",
       "      <td>1316</td>\n",
       "    </tr>\n",
       "    <tr>\n",
       "      <th>2022-06-06</th>\n",
       "      <td>1562</td>\n",
       "    </tr>\n",
       "    <tr>\n",
       "      <th>2022-06-13</th>\n",
       "      <td>1692</td>\n",
       "    </tr>\n",
       "    <tr>\n",
       "      <th>2022-06-20</th>\n",
       "      <td>1732</td>\n",
       "    </tr>\n",
       "    <tr>\n",
       "      <th>2022-06-27</th>\n",
       "      <td>1776</td>\n",
       "    </tr>\n",
       "    <tr>\n",
       "      <th>2022-07-04</th>\n",
       "      <td>2197</td>\n",
       "    </tr>\n",
       "    <tr>\n",
       "      <th>2022-07-11</th>\n",
       "      <td>2228</td>\n",
       "    </tr>\n",
       "    <tr>\n",
       "      <th>2022-07-18</th>\n",
       "      <td>2446</td>\n",
       "    </tr>\n",
       "    <tr>\n",
       "      <th>2022-07-25</th>\n",
       "      <td>2724</td>\n",
       "    </tr>\n",
       "    <tr>\n",
       "      <th>2022-08-01</th>\n",
       "      <td>2791</td>\n",
       "    </tr>\n",
       "    <tr>\n",
       "      <th>2022-08-08</th>\n",
       "      <td>2840</td>\n",
       "    </tr>\n",
       "    <tr>\n",
       "      <th>2022-08-15</th>\n",
       "      <td>2771</td>\n",
       "    </tr>\n",
       "    <tr>\n",
       "      <th>2022-08-22</th>\n",
       "      <td>2745</td>\n",
       "    </tr>\n",
       "    <tr>\n",
       "      <th>2022-08-29</th>\n",
       "      <td>2835</td>\n",
       "    </tr>\n",
       "    <tr>\n",
       "      <th>2022-09-05</th>\n",
       "      <td>2761</td>\n",
       "    </tr>\n",
       "    <tr>\n",
       "      <th>2022-09-12</th>\n",
       "      <td>2973</td>\n",
       "    </tr>\n",
       "    <tr>\n",
       "      <th>2022-09-19</th>\n",
       "      <td>2862</td>\n",
       "    </tr>\n",
       "    <tr>\n",
       "      <th>2022-09-26</th>\n",
       "      <td>2721</td>\n",
       "    </tr>\n",
       "    <tr>\n",
       "      <th>2022-10-03</th>\n",
       "      <td>2994</td>\n",
       "    </tr>\n",
       "    <tr>\n",
       "      <th>2022-10-10</th>\n",
       "      <td>3585</td>\n",
       "    </tr>\n",
       "    <tr>\n",
       "      <th>2022-10-17</th>\n",
       "      <td>3424</td>\n",
       "    </tr>\n",
       "    <tr>\n",
       "      <th>2022-10-24</th>\n",
       "      <td>3514</td>\n",
       "    </tr>\n",
       "    <tr>\n",
       "      <th>2022-10-31</th>\n",
       "      <td>3455</td>\n",
       "    </tr>\n",
       "  </tbody>\n",
       "</table>\n",
       "</div>"
      ],
      "text/plain": [
       "              claim\n",
       "weeks_monday       \n",
       "2021-11-15        2\n",
       "2021-11-22        3\n",
       "2021-11-29        6\n",
       "2021-12-06        2\n",
       "2021-12-13       10\n",
       "2021-12-20        6\n",
       "2021-12-27       15\n",
       "2022-01-03        7\n",
       "2022-01-10       13\n",
       "2022-01-17       10\n",
       "2022-01-24       11\n",
       "2022-01-31       25\n",
       "2022-02-07       76\n",
       "2022-02-14      100\n",
       "2022-02-21      112\n",
       "2022-02-28      138\n",
       "2022-03-07      234\n",
       "2022-03-14      310\n",
       "2022-03-21      333\n",
       "2022-03-28      505\n",
       "2022-04-04      579\n",
       "2022-04-11      581\n",
       "2022-04-18      872\n",
       "2022-04-25      833\n",
       "2022-05-02      878\n",
       "2022-05-09      951\n",
       "2022-05-16     1042\n",
       "2022-05-23     1321\n",
       "2022-05-30     1316\n",
       "2022-06-06     1562\n",
       "2022-06-13     1692\n",
       "2022-06-20     1732\n",
       "2022-06-27     1776\n",
       "2022-07-04     2197\n",
       "2022-07-11     2228\n",
       "2022-07-18     2446\n",
       "2022-07-25     2724\n",
       "2022-08-01     2791\n",
       "2022-08-08     2840\n",
       "2022-08-15     2771\n",
       "2022-08-22     2745\n",
       "2022-08-29     2835\n",
       "2022-09-05     2761\n",
       "2022-09-12     2973\n",
       "2022-09-19     2862\n",
       "2022-09-26     2721\n",
       "2022-10-03     2994\n",
       "2022-10-10     3585\n",
       "2022-10-17     3424\n",
       "2022-10-24     3514\n",
       "2022-10-31     3455"
      ]
     },
     "metadata": {},
     "output_type": "display_data"
    },
    {
     "data": {
      "text/html": [
       "<div>\n",
       "<style scoped>\n",
       "    .dataframe tbody tr th:only-of-type {\n",
       "        vertical-align: middle;\n",
       "    }\n",
       "\n",
       "    .dataframe tbody tr th {\n",
       "        vertical-align: top;\n",
       "    }\n",
       "\n",
       "    .dataframe thead th {\n",
       "        text-align: right;\n",
       "    }\n",
       "</style>\n",
       "<table border=\"1\" class=\"dataframe\">\n",
       "  <thead>\n",
       "    <tr style=\"text-align: right;\">\n",
       "      <th></th>\n",
       "      <th>claim</th>\n",
       "    </tr>\n",
       "    <tr>\n",
       "      <th>weeks_monday</th>\n",
       "      <th></th>\n",
       "    </tr>\n",
       "  </thead>\n",
       "  <tbody>\n",
       "    <tr>\n",
       "      <th>2022-11-07</th>\n",
       "      <td>3426</td>\n",
       "    </tr>\n",
       "    <tr>\n",
       "      <th>2022-11-14</th>\n",
       "      <td>3335</td>\n",
       "    </tr>\n",
       "    <tr>\n",
       "      <th>2022-11-21</th>\n",
       "      <td>3084</td>\n",
       "    </tr>\n",
       "    <tr>\n",
       "      <th>2022-11-28</th>\n",
       "      <td>3528</td>\n",
       "    </tr>\n",
       "    <tr>\n",
       "      <th>2022-12-05</th>\n",
       "      <td>3291</td>\n",
       "    </tr>\n",
       "    <tr>\n",
       "      <th>2022-12-12</th>\n",
       "      <td>3123</td>\n",
       "    </tr>\n",
       "    <tr>\n",
       "      <th>2022-12-19</th>\n",
       "      <td>2312</td>\n",
       "    </tr>\n",
       "    <tr>\n",
       "      <th>2022-12-26</th>\n",
       "      <td>2616</td>\n",
       "    </tr>\n",
       "    <tr>\n",
       "      <th>2023-01-02</th>\n",
       "      <td>3683</td>\n",
       "    </tr>\n",
       "    <tr>\n",
       "      <th>2023-01-09</th>\n",
       "      <td>3616</td>\n",
       "    </tr>\n",
       "    <tr>\n",
       "      <th>2023-01-16</th>\n",
       "      <td>3828</td>\n",
       "    </tr>\n",
       "    <tr>\n",
       "      <th>2023-01-23</th>\n",
       "      <td>4090</td>\n",
       "    </tr>\n",
       "    <tr>\n",
       "      <th>2023-01-30</th>\n",
       "      <td>3740</td>\n",
       "    </tr>\n",
       "    <tr>\n",
       "      <th>2023-02-06</th>\n",
       "      <td>4270</td>\n",
       "    </tr>\n",
       "  </tbody>\n",
       "</table>\n",
       "</div>"
      ],
      "text/plain": [
       "              claim\n",
       "weeks_monday       \n",
       "2022-11-07     3426\n",
       "2022-11-14     3335\n",
       "2022-11-21     3084\n",
       "2022-11-28     3528\n",
       "2022-12-05     3291\n",
       "2022-12-12     3123\n",
       "2022-12-19     2312\n",
       "2022-12-26     2616\n",
       "2023-01-02     3683\n",
       "2023-01-09     3616\n",
       "2023-01-16     3828\n",
       "2023-01-23     4090\n",
       "2023-01-30     3740\n",
       "2023-02-06     4270"
      ]
     },
     "metadata": {},
     "output_type": "display_data"
    }
   ],
   "source": [
    "df_train = result_iphone_13[:51]\n",
    "df_test = result_iphone_13[-14:]\n",
    "\n",
    "display(df_train)\n",
    "display(df_test)"
   ]
  },
  {
   "cell_type": "code",
   "execution_count": 16,
   "metadata": {},
   "outputs": [
    {
     "data": {
      "text/plain": [
       "ARIMA(order=(0, 1, 0), scoring_args={}, suppress_warnings=True)"
      ]
     },
     "execution_count": 16,
     "metadata": {},
     "output_type": "execute_result"
    }
   ],
   "source": [
    "auto_arima_v1 = pm.auto_arima(df_train, stepwise=False, seasonal=False)\n",
    "auto_arima_v1\n",
    "\n",
    "# ARIMA with a (0,1,0) is returned as optimal"
   ]
  },
  {
   "cell_type": "code",
   "execution_count": 17,
   "metadata": {},
   "outputs": [
    {
     "data": {
      "text/html": [
       "<table class=\"simpletable\">\n",
       "<caption>SARIMAX Results</caption>\n",
       "<tr>\n",
       "  <th>Dep. Variable:</th>           <td>y</td>        <th>  No. Observations:  </th>    <td>51</td>   \n",
       "</tr>\n",
       "<tr>\n",
       "  <th>Model:</th>           <td>SARIMAX(0, 1, 0)</td> <th>  Log Likelihood     </th> <td>-317.110</td>\n",
       "</tr>\n",
       "<tr>\n",
       "  <th>Date:</th>            <td>Wed, 29 Mar 2023</td> <th>  AIC                </th>  <td>638.220</td>\n",
       "</tr>\n",
       "<tr>\n",
       "  <th>Time:</th>                <td>01:18:02</td>     <th>  BIC                </th>  <td>642.045</td>\n",
       "</tr>\n",
       "<tr>\n",
       "  <th>Sample:</th>             <td>11-15-2021</td>    <th>  HQIC               </th>  <td>639.677</td>\n",
       "</tr>\n",
       "<tr>\n",
       "  <th></th>                   <td>- 10-31-2022</td>   <th>                     </th>     <td> </td>   \n",
       "</tr>\n",
       "<tr>\n",
       "  <th>Covariance Type:</th>        <td>opg</td>       <th>                     </th>     <td> </td>   \n",
       "</tr>\n",
       "</table>\n",
       "<table class=\"simpletable\">\n",
       "<tr>\n",
       "      <td></td>         <th>coef</th>     <th>std err</th>      <th>z</th>      <th>P>|z|</th>  <th>[0.025</th>    <th>0.975]</th>  \n",
       "</tr>\n",
       "<tr>\n",
       "  <th>intercept</th> <td>   69.0600</td> <td>   26.248</td> <td>    2.631</td> <td> 0.009</td> <td>   17.616</td> <td>  120.504</td>\n",
       "</tr>\n",
       "<tr>\n",
       "  <th>sigma2</th>    <td> 1.889e+04</td> <td> 3229.136</td> <td>    5.851</td> <td> 0.000</td> <td> 1.26e+04</td> <td> 2.52e+04</td>\n",
       "</tr>\n",
       "</table>\n",
       "<table class=\"simpletable\">\n",
       "<tr>\n",
       "  <th>Ljung-Box (L1) (Q):</th>     <td>0.24</td>  <th>  Jarque-Bera (JB):  </th> <td>37.45</td>\n",
       "</tr>\n",
       "<tr>\n",
       "  <th>Prob(Q):</th>                <td>0.63</td>  <th>  Prob(JB):          </th> <td>0.00</td> \n",
       "</tr>\n",
       "<tr>\n",
       "  <th>Heteroskedasticity (H):</th> <td>10.30</td> <th>  Skew:              </th> <td>1.50</td> \n",
       "</tr>\n",
       "<tr>\n",
       "  <th>Prob(H) (two-sided):</th>    <td>0.00</td>  <th>  Kurtosis:          </th> <td>5.99</td> \n",
       "</tr>\n",
       "</table><br/><br/>Warnings:<br/>[1] Covariance matrix calculated using the outer product of gradients (complex-step)."
      ],
      "text/plain": [
       "<class 'statsmodels.iolib.summary.Summary'>\n",
       "\"\"\"\n",
       "                               SARIMAX Results                                \n",
       "==============================================================================\n",
       "Dep. Variable:                      y   No. Observations:                   51\n",
       "Model:               SARIMAX(0, 1, 0)   Log Likelihood                -317.110\n",
       "Date:                Wed, 29 Mar 2023   AIC                            638.220\n",
       "Time:                        01:18:02   BIC                            642.045\n",
       "Sample:                    11-15-2021   HQIC                           639.677\n",
       "                         - 10-31-2022                                         \n",
       "Covariance Type:                  opg                                         \n",
       "==============================================================================\n",
       "                 coef    std err          z      P>|z|      [0.025      0.975]\n",
       "------------------------------------------------------------------------------\n",
       "intercept     69.0600     26.248      2.631      0.009      17.616     120.504\n",
       "sigma2      1.889e+04   3229.136      5.851      0.000    1.26e+04    2.52e+04\n",
       "===================================================================================\n",
       "Ljung-Box (L1) (Q):                   0.24   Jarque-Bera (JB):                37.45\n",
       "Prob(Q):                              0.63   Prob(JB):                         0.00\n",
       "Heteroskedasticity (H):              10.30   Skew:                             1.50\n",
       "Prob(H) (two-sided):                  0.00   Kurtosis:                         5.99\n",
       "===================================================================================\n",
       "\n",
       "Warnings:\n",
       "[1] Covariance matrix calculated using the outer product of gradients (complex-step).\n",
       "\"\"\""
      ]
     },
     "execution_count": 17,
     "metadata": {},
     "output_type": "execute_result"
    }
   ],
   "source": [
    "auto_arima_v1.summary()"
   ]
  },
  {
   "cell_type": "code",
   "execution_count": 18,
   "metadata": {},
   "outputs": [
    {
     "data": {
      "text/plain": [
       "Text(0.5, 1.0, 'iPhone 13 Claims with ARIMA')"
      ]
     },
     "execution_count": 18,
     "metadata": {},
     "output_type": "execute_result"
    },
    {
     "data": {
      "image/png": "[encoded data removed]",
      "text/plain": [
       "<Figure size 432x288 with 1 Axes>"
      ]
     },
     "metadata": {
      "needs_background": "light"
     },
     "output_type": "display_data"
    }
   ],
   "source": [
    "forecast_test_auto = auto_arima_v1.predict(n_periods=len(df_test))\n",
    "\n",
    "result_iphone_13['forecast_auto'] = [None]*len(df_train) + list(forecast_test_auto)\n",
    "\n",
    "result_iphone_13.plot()\n",
    "plt.title(\"iPhone 13 Claims with ARIMA\")\n",
    "\n",
    "# This graphic shows that the model doesn't work well as the auto arima was the optimal values are (0,1,0)"
   ]
  },
  {
   "cell_type": "markdown",
   "metadata": {},
   "source": [
    "## Alternative Search of Auto ARIMA - SARIMA"
   ]
  },
  {
   "cell_type": "code",
   "execution_count": 19,
   "metadata": {},
   "outputs": [
    {
     "data": {
      "text/html": [
       "<div>\n",
       "<style scoped>\n",
       "    .dataframe tbody tr th:only-of-type {\n",
       "        vertical-align: middle;\n",
       "    }\n",
       "\n",
       "    .dataframe tbody tr th {\n",
       "        vertical-align: top;\n",
       "    }\n",
       "\n",
       "    .dataframe thead th {\n",
       "        text-align: right;\n",
       "    }\n",
       "</style>\n",
       "<table border=\"1\" class=\"dataframe\">\n",
       "  <thead>\n",
       "    <tr style=\"text-align: right;\">\n",
       "      <th></th>\n",
       "      <th>claim</th>\n",
       "    </tr>\n",
       "    <tr>\n",
       "      <th>weeks_monday</th>\n",
       "      <th></th>\n",
       "    </tr>\n",
       "  </thead>\n",
       "  <tbody>\n",
       "    <tr>\n",
       "      <th>2021-11-15</th>\n",
       "      <td>2</td>\n",
       "    </tr>\n",
       "    <tr>\n",
       "      <th>2021-11-22</th>\n",
       "      <td>3</td>\n",
       "    </tr>\n",
       "    <tr>\n",
       "      <th>2021-11-29</th>\n",
       "      <td>6</td>\n",
       "    </tr>\n",
       "    <tr>\n",
       "      <th>2021-12-06</th>\n",
       "      <td>2</td>\n",
       "    </tr>\n",
       "    <tr>\n",
       "      <th>2021-12-13</th>\n",
       "      <td>10</td>\n",
       "    </tr>\n",
       "    <tr>\n",
       "      <th>...</th>\n",
       "      <td>...</td>\n",
       "    </tr>\n",
       "    <tr>\n",
       "      <th>2023-01-09</th>\n",
       "      <td>3616</td>\n",
       "    </tr>\n",
       "    <tr>\n",
       "      <th>2023-01-16</th>\n",
       "      <td>3828</td>\n",
       "    </tr>\n",
       "    <tr>\n",
       "      <th>2023-01-23</th>\n",
       "      <td>4090</td>\n",
       "    </tr>\n",
       "    <tr>\n",
       "      <th>2023-01-30</th>\n",
       "      <td>3740</td>\n",
       "    </tr>\n",
       "    <tr>\n",
       "      <th>2023-02-06</th>\n",
       "      <td>4270</td>\n",
       "    </tr>\n",
       "  </tbody>\n",
       "</table>\n",
       "<p>65 rows × 1 columns</p>\n",
       "</div>"
      ],
      "text/plain": [
       "              claim\n",
       "weeks_monday       \n",
       "2021-11-15        2\n",
       "2021-11-22        3\n",
       "2021-11-29        6\n",
       "2021-12-06        2\n",
       "2021-12-13       10\n",
       "...             ...\n",
       "2023-01-09     3616\n",
       "2023-01-16     3828\n",
       "2023-01-23     4090\n",
       "2023-01-30     3740\n",
       "2023-02-06     4270\n",
       "\n",
       "[65 rows x 1 columns]"
      ]
     },
     "metadata": {},
     "output_type": "display_data"
    }
   ],
   "source": [
    "display(result_iphone_13_v2)"
   ]
  },
  {
   "cell_type": "code",
   "execution_count": 20,
   "metadata": {},
   "outputs": [
    {
     "data": {
      "text/plain": [
       "(0.4592922983921267, True)"
      ]
     },
     "execution_count": 20,
     "metadata": {},
     "output_type": "execute_result"
    }
   ],
   "source": [
    "adf_test = ADFTest(alpha = 0.05)\n",
    "adf_test.should_diff(result_iphone_13_v2)\n",
    "\n",
    "# We still expect to d = 1"
   ]
  },
  {
   "cell_type": "code",
   "execution_count": 21,
   "metadata": {},
   "outputs": [
    {
     "data": {
      "text/plain": [
       "Text(0.5, 1.0, 'iPhone 13 Claims as Train and Test Data')"
      ]
     },
     "execution_count": 21,
     "metadata": {},
     "output_type": "execute_result"
    },
    {
     "data": {
      "image/png": "[encoded data removed]",
      "text/plain": [
       "<Figure size 432x288 with 1 Axes>"
      ]
     },
     "metadata": {
      "needs_background": "light"
     },
     "output_type": "display_data"
    }
   ],
   "source": [
    "train = result_iphone_13_v2[:51]\n",
    "test = result_iphone_13_v2[-14:]\n",
    "# To connect the whole graphic it's -15, but the example online intentionally left a blank\n",
    "\n",
    "plt.plot(train)\n",
    "plt.plot(test)\n",
    "plt.title(\"iPhone 13 Claims as Train and Test Data\")"
   ]
  },
  {
   "cell_type": "code",
   "execution_count": 22,
   "metadata": {},
   "outputs": [
    {
     "name": "stdout",
     "output_type": "stream",
     "text": [
      "Performing stepwise search to minimize aic\n",
      " ARIMA(0,1,0)(0,1,0)[12]             : AIC=514.608, Time=0.02 sec\n",
      " ARIMA(1,1,0)(1,1,0)[12]             : AIC=509.951, Time=0.12 sec\n",
      " ARIMA(0,1,1)(0,1,1)[12]             : AIC=inf, Time=0.22 sec\n",
      " ARIMA(1,1,0)(0,1,0)[12]             : AIC=515.556, Time=0.04 sec\n",
      " ARIMA(1,1,0)(2,1,0)[12]             : AIC=510.555, Time=0.37 sec\n",
      " ARIMA(1,1,0)(1,1,1)[12]             : AIC=inf, Time=0.38 sec\n",
      " ARIMA(1,1,0)(0,1,1)[12]             : AIC=inf, Time=0.31 sec\n",
      " ARIMA(1,1,0)(2,1,1)[12]             : AIC=inf, Time=0.96 sec\n",
      " ARIMA(0,1,0)(1,1,0)[12]             : AIC=508.093, Time=0.10 sec\n",
      " ARIMA(0,1,0)(2,1,0)[12]             : AIC=508.808, Time=0.23 sec\n",
      " ARIMA(0,1,0)(1,1,1)[12]             : AIC=10622574263.438, Time=0.26 sec\n",
      " ARIMA(0,1,0)(0,1,1)[12]             : AIC=inf, Time=0.11 sec\n",
      " ARIMA(0,1,0)(2,1,1)[12]             : AIC=10622574261.123, Time=0.27 sec\n",
      " ARIMA(0,1,1)(1,1,0)[12]             : AIC=509.948, Time=0.19 sec\n",
      " ARIMA(1,1,1)(1,1,0)[12]             : AIC=inf, Time=0.38 sec\n",
      " ARIMA(0,1,0)(1,1,0)[12] intercept   : AIC=508.648, Time=0.23 sec\n",
      "\n",
      "Best model:  ARIMA(0,1,0)(1,1,0)[12]          \n",
      "Total fit time: 4.190 seconds\n"
     ]
    }
   ],
   "source": [
    "arima_model = pm.auto_arima(train,start_p=0,d=1,start_q=0,\n",
    "          max_p=5,max_d=5, max_q=5, start_P=0,\n",
    "          D=1, start_Q=0, max_P=5, max_D=5,\n",
    "          max_Q=5, m=12, seasonal=True,\n",
    "          error_action='warn',trace=True,\n",
    "          supress_warnings=True, stepwise=True,\n",
    "          random_state=20, n_fits=50)\n",
    "\n",
    "# This came back with actually a SARIMA model with (p, d, q,) (P, D, Q)S"
   ]
  },
  {
   "cell_type": "code",
   "execution_count": 23,
   "metadata": {},
   "outputs": [
    {
     "data": {
      "text/html": [
       "<table class=\"simpletable\">\n",
       "<caption>SARIMAX Results</caption>\n",
       "<tr>\n",
       "  <th>Dep. Variable:</th>                  <td>y</td>               <th>  No. Observations:  </th>    <td>51</td>   \n",
       "</tr>\n",
       "<tr>\n",
       "  <th>Model:</th>           <td>SARIMAX(0, 1, 0)x(1, 1, 0, 12)</td> <th>  Log Likelihood     </th> <td>-252.047</td>\n",
       "</tr>\n",
       "<tr>\n",
       "  <th>Date:</th>                   <td>Wed, 29 Mar 2023</td>        <th>  AIC                </th>  <td>508.093</td>\n",
       "</tr>\n",
       "<tr>\n",
       "  <th>Time:</th>                       <td>01:18:07</td>            <th>  BIC                </th>  <td>511.368</td>\n",
       "</tr>\n",
       "<tr>\n",
       "  <th>Sample:</th>                    <td>11-15-2021</td>           <th>  HQIC               </th>  <td>509.258</td>\n",
       "</tr>\n",
       "<tr>\n",
       "  <th></th>                          <td>- 10-31-2022</td>          <th>                     </th>     <td> </td>   \n",
       "</tr>\n",
       "<tr>\n",
       "  <th>Covariance Type:</th>               <td>opg</td>              <th>                     </th>     <td> </td>   \n",
       "</tr>\n",
       "</table>\n",
       "<table class=\"simpletable\">\n",
       "<tr>\n",
       "      <td></td>        <th>coef</th>     <th>std err</th>      <th>z</th>      <th>P>|z|</th>  <th>[0.025</th>    <th>0.975]</th>  \n",
       "</tr>\n",
       "<tr>\n",
       "  <th>ar.S.L12</th> <td>   -0.5489</td> <td>    0.133</td> <td>   -4.118</td> <td> 0.000</td> <td>   -0.810</td> <td>   -0.288</td>\n",
       "</tr>\n",
       "<tr>\n",
       "  <th>sigma2</th>   <td> 3.038e+04</td> <td> 5637.377</td> <td>    5.389</td> <td> 0.000</td> <td> 1.93e+04</td> <td> 4.14e+04</td>\n",
       "</tr>\n",
       "</table>\n",
       "<table class=\"simpletable\">\n",
       "<tr>\n",
       "  <th>Ljung-Box (L1) (Q):</th>     <td>0.52</td> <th>  Jarque-Bera (JB):  </th> <td>2.34</td>\n",
       "</tr>\n",
       "<tr>\n",
       "  <th>Prob(Q):</th>                <td>0.47</td> <th>  Prob(JB):          </th> <td>0.31</td>\n",
       "</tr>\n",
       "<tr>\n",
       "  <th>Heteroskedasticity (H):</th> <td>5.96</td> <th>  Skew:              </th> <td>0.42</td>\n",
       "</tr>\n",
       "<tr>\n",
       "  <th>Prob(H) (two-sided):</th>    <td>0.00</td> <th>  Kurtosis:          </th> <td>3.89</td>\n",
       "</tr>\n",
       "</table><br/><br/>Warnings:<br/>[1] Covariance matrix calculated using the outer product of gradients (complex-step)."
      ],
      "text/plain": [
       "<class 'statsmodels.iolib.summary.Summary'>\n",
       "\"\"\"\n",
       "                                     SARIMAX Results                                      \n",
       "==========================================================================================\n",
       "Dep. Variable:                                  y   No. Observations:                   51\n",
       "Model:             SARIMAX(0, 1, 0)x(1, 1, 0, 12)   Log Likelihood                -252.047\n",
       "Date:                            Wed, 29 Mar 2023   AIC                            508.093\n",
       "Time:                                    01:18:07   BIC                            511.368\n",
       "Sample:                                11-15-2021   HQIC                           509.258\n",
       "                                     - 10-31-2022                                         \n",
       "Covariance Type:                              opg                                         \n",
       "==============================================================================\n",
       "                 coef    std err          z      P>|z|      [0.025      0.975]\n",
       "------------------------------------------------------------------------------\n",
       "ar.S.L12      -0.5489      0.133     -4.118      0.000      -0.810      -0.288\n",
       "sigma2      3.038e+04   5637.377      5.389      0.000    1.93e+04    4.14e+04\n",
       "===================================================================================\n",
       "Ljung-Box (L1) (Q):                   0.52   Jarque-Bera (JB):                 2.34\n",
       "Prob(Q):                              0.47   Prob(JB):                         0.31\n",
       "Heteroskedasticity (H):               5.96   Skew:                             0.42\n",
       "Prob(H) (two-sided):                  0.00   Kurtosis:                         3.89\n",
       "===================================================================================\n",
       "\n",
       "Warnings:\n",
       "[1] Covariance matrix calculated using the outer product of gradients (complex-step).\n",
       "\"\"\""
      ]
     },
     "execution_count": 23,
     "metadata": {},
     "output_type": "execute_result"
    }
   ],
   "source": [
    "arima_model.summary()"
   ]
  },
  {
   "cell_type": "code",
   "execution_count": 24,
   "metadata": {},
   "outputs": [
    {
     "data": {
      "text/html": [
       "<div>\n",
       "<style scoped>\n",
       "    .dataframe tbody tr th:only-of-type {\n",
       "        vertical-align: middle;\n",
       "    }\n",
       "\n",
       "    .dataframe tbody tr th {\n",
       "        vertical-align: top;\n",
       "    }\n",
       "\n",
       "    .dataframe thead th {\n",
       "        text-align: right;\n",
       "    }\n",
       "</style>\n",
       "<table border=\"1\" class=\"dataframe\">\n",
       "  <thead>\n",
       "    <tr style=\"text-align: right;\">\n",
       "      <th></th>\n",
       "      <th>predicted_values</th>\n",
       "    </tr>\n",
       "  </thead>\n",
       "  <tbody>\n",
       "    <tr>\n",
       "      <th>2022-11-07</th>\n",
       "      <td>3577.016789</td>\n",
       "    </tr>\n",
       "    <tr>\n",
       "      <th>2022-11-14</th>\n",
       "      <td>3562.543664</td>\n",
       "    </tr>\n",
       "    <tr>\n",
       "      <th>2022-11-21</th>\n",
       "      <td>3738.171880</td>\n",
       "    </tr>\n",
       "    <tr>\n",
       "      <th>2022-11-28</th>\n",
       "      <td>3776.147238</td>\n",
       "    </tr>\n",
       "    <tr>\n",
       "      <th>2022-12-05</th>\n",
       "      <td>3893.736642</td>\n",
       "    </tr>\n",
       "    <tr>\n",
       "      <th>2022-12-12</th>\n",
       "      <td>3867.815959</td>\n",
       "    </tr>\n",
       "    <tr>\n",
       "      <th>2022-12-19</th>\n",
       "      <td>4035.297094</td>\n",
       "    </tr>\n",
       "    <tr>\n",
       "      <th>2022-12-26</th>\n",
       "      <td>4175.463580</td>\n",
       "    </tr>\n",
       "    <tr>\n",
       "      <th>2023-01-02</th>\n",
       "      <td>4561.724321</td>\n",
       "    </tr>\n",
       "    <tr>\n",
       "      <th>2023-01-09</th>\n",
       "      <td>4641.690902</td>\n",
       "    </tr>\n",
       "    <tr>\n",
       "      <th>2023-01-16</th>\n",
       "      <td>4719.066229</td>\n",
       "    </tr>\n",
       "    <tr>\n",
       "      <th>2023-01-23</th>\n",
       "      <td>4719.347302</td>\n",
       "    </tr>\n",
       "    <tr>\n",
       "      <th>2023-01-30</th>\n",
       "      <td>4736.515201</td>\n",
       "    </tr>\n",
       "    <tr>\n",
       "      <th>2023-02-06</th>\n",
       "      <td>4715.714988</td>\n",
       "    </tr>\n",
       "    <tr>\n",
       "      <th>2023-02-13</th>\n",
       "      <td>4844.341977</td>\n",
       "    </tr>\n",
       "    <tr>\n",
       "      <th>2023-02-20</th>\n",
       "      <td>4820.854194</td>\n",
       "    </tr>\n",
       "    <tr>\n",
       "      <th>2023-02-27</th>\n",
       "      <td>4990.265462</td>\n",
       "    </tr>\n",
       "    <tr>\n",
       "      <th>2023-03-06</th>\n",
       "      <td>4917.644843</td>\n",
       "    </tr>\n",
       "    <tr>\n",
       "      <th>2023-03-13</th>\n",
       "      <td>4915.801048</td>\n",
       "    </tr>\n",
       "    <tr>\n",
       "      <th>2023-03-20</th>\n",
       "      <td>5128.879692</td>\n",
       "    </tr>\n",
       "    <tr>\n",
       "      <th>2023-03-27</th>\n",
       "      <td>5627.521571</td>\n",
       "    </tr>\n",
       "  </tbody>\n",
       "</table>\n",
       "</div>"
      ],
      "text/plain": [
       "            predicted_values\n",
       "2022-11-07       3577.016789\n",
       "2022-11-14       3562.543664\n",
       "2022-11-21       3738.171880\n",
       "2022-11-28       3776.147238\n",
       "2022-12-05       3893.736642\n",
       "2022-12-12       3867.815959\n",
       "2022-12-19       4035.297094\n",
       "2022-12-26       4175.463580\n",
       "2023-01-02       4561.724321\n",
       "2023-01-09       4641.690902\n",
       "2023-01-16       4719.066229\n",
       "2023-01-23       4719.347302\n",
       "2023-01-30       4736.515201\n",
       "2023-02-06       4715.714988\n",
       "2023-02-13       4844.341977\n",
       "2023-02-20       4820.854194\n",
       "2023-02-27       4990.265462\n",
       "2023-03-06       4917.644843\n",
       "2023-03-13       4915.801048\n",
       "2023-03-20       5128.879692\n",
       "2023-03-27       5627.521571"
      ]
     },
     "execution_count": 24,
     "metadata": {},
     "output_type": "execute_result"
    }
   ],
   "source": [
    "prediction = pd.DataFrame(arima_model.predict(n_periods = 21))\n",
    "prediction.columns = ['predicted_values']\n",
    "prediction\n",
    "\n",
    "# Predicting the next 21 values, which includes all of the data from the test data set and then the additional "
   ]
  },
  {
   "cell_type": "code",
   "execution_count": 25,
   "metadata": {},
   "outputs": [
    {
     "data": {
      "image/png": "[encoded data removed]",
      "text/plain": [
       "<Figure size 576x360 with 1 Axes>"
      ]
     },
     "metadata": {
      "needs_background": "light"
     },
     "output_type": "display_data"
    },
    {
     "data": {
      "text/html": [
       "<div>\n",
       "<style scoped>\n",
       "    .dataframe tbody tr th:only-of-type {\n",
       "        vertical-align: middle;\n",
       "    }\n",
       "\n",
       "    .dataframe tbody tr th {\n",
       "        vertical-align: top;\n",
       "    }\n",
       "\n",
       "    .dataframe thead th {\n",
       "        text-align: right;\n",
       "    }\n",
       "</style>\n",
       "<table border=\"1\" class=\"dataframe\">\n",
       "  <thead>\n",
       "    <tr style=\"text-align: right;\">\n",
       "      <th></th>\n",
       "      <th>claim</th>\n",
       "    </tr>\n",
       "    <tr>\n",
       "      <th>weeks_monday</th>\n",
       "      <th></th>\n",
       "    </tr>\n",
       "  </thead>\n",
       "  <tbody>\n",
       "    <tr>\n",
       "      <th>2022-11-07</th>\n",
       "      <td>3426</td>\n",
       "    </tr>\n",
       "    <tr>\n",
       "      <th>2022-11-14</th>\n",
       "      <td>3335</td>\n",
       "    </tr>\n",
       "    <tr>\n",
       "      <th>2022-11-21</th>\n",
       "      <td>3084</td>\n",
       "    </tr>\n",
       "    <tr>\n",
       "      <th>2022-11-28</th>\n",
       "      <td>3528</td>\n",
       "    </tr>\n",
       "    <tr>\n",
       "      <th>2022-12-05</th>\n",
       "      <td>3291</td>\n",
       "    </tr>\n",
       "    <tr>\n",
       "      <th>2022-12-12</th>\n",
       "      <td>3123</td>\n",
       "    </tr>\n",
       "    <tr>\n",
       "      <th>2022-12-19</th>\n",
       "      <td>2312</td>\n",
       "    </tr>\n",
       "    <tr>\n",
       "      <th>2022-12-26</th>\n",
       "      <td>2616</td>\n",
       "    </tr>\n",
       "    <tr>\n",
       "      <th>2023-01-02</th>\n",
       "      <td>3683</td>\n",
       "    </tr>\n",
       "    <tr>\n",
       "      <th>2023-01-09</th>\n",
       "      <td>3616</td>\n",
       "    </tr>\n",
       "    <tr>\n",
       "      <th>2023-01-16</th>\n",
       "      <td>3828</td>\n",
       "    </tr>\n",
       "    <tr>\n",
       "      <th>2023-01-23</th>\n",
       "      <td>4090</td>\n",
       "    </tr>\n",
       "    <tr>\n",
       "      <th>2023-01-30</th>\n",
       "      <td>3740</td>\n",
       "    </tr>\n",
       "    <tr>\n",
       "      <th>2023-02-06</th>\n",
       "      <td>4270</td>\n",
       "    </tr>\n",
       "  </tbody>\n",
       "</table>\n",
       "</div>"
      ],
      "text/plain": [
       "              claim\n",
       "weeks_monday       \n",
       "2022-11-07     3426\n",
       "2022-11-14     3335\n",
       "2022-11-21     3084\n",
       "2022-11-28     3528\n",
       "2022-12-05     3291\n",
       "2022-12-12     3123\n",
       "2022-12-19     2312\n",
       "2022-12-26     2616\n",
       "2023-01-02     3683\n",
       "2023-01-09     3616\n",
       "2023-01-16     3828\n",
       "2023-01-23     4090\n",
       "2023-01-30     3740\n",
       "2023-02-06     4270"
      ]
     },
     "metadata": {},
     "output_type": "display_data"
    }
   ],
   "source": [
    "plt.figure(figsize=(8,5))\n",
    "plt.plot(train,label=\"Training\")\n",
    "plt.plot(test,label=\"Test\")\n",
    "plt.plot(prediction,label=\"Predicted\")\n",
    "plt.legend(loc = 'upper left')\n",
    "plt.title(\"ARIMA/SARIMA Predicted Values for iPhone 13\")\n",
    "plt.show()\n",
    "\n",
    "# Displaying our original test data set\n",
    "display(test)\n",
    "\n",
    "# Given the ARIMA (0,1,0) model, I think the SARIMA (0,1,0)(1,1,0)[12] would overall work better, especially when exclude\n",
    "# the final data point"
   ]
  },
  {
   "cell_type": "code",
   "execution_count": 26,
   "metadata": {},
   "outputs": [
    {
     "name": "stderr",
     "output_type": "stream",
     "text": [
      "/tmp/ipykernel_28412/2936721035.py:2: SettingWithCopyWarning: \n",
      "A value is trying to be set on a copy of a slice from a DataFrame.\n",
      "Try using .loc[row_indexer,col_indexer] = value instead\n",
      "\n",
      "See the caveats in the documentation: https://pandas.pydata.org/pandas-docs/stable/user_guide/indexing.html#returning-a-view-versus-a-copy\n",
      "  test['predicted_values'] = prediction\n"
     ]
    },
    {
     "data": {
      "text/plain": [
       "-2.0313873980204855"
      ]
     },
     "execution_count": 26,
     "metadata": {},
     "output_type": "execute_result"
    }
   ],
   "source": [
    "from sklearn.metrics import r2_score\n",
    "test['predicted_values'] = prediction\n",
    "r2_score(test['claim'], test['predicted_values'])\n",
    "\n",
    "# R2 Score for test data set shows that the model didn't do well in testing"
   ]
  },
  {
   "cell_type": "code",
   "execution_count": 27,
   "metadata": {},
   "outputs": [
    {
     "name": "stdout",
     "output_type": "stream",
     "text": [
      " RMSE Score on Test set: 890.02\n"
     ]
    }
   ],
   "source": [
    "score = np.sqrt(mean_squared_error(test['claim'], test['predicted_values']))\n",
    "\n",
    "print(f' RMSE Score on Test set: {score:0.2f}')"
   ]
  }
 ],
 "metadata": {
  "kernelspec": {
   "display_name": "Python 3 (ipykernel)",
   "language": "python",
   "name": "python3"
  },
  "language_info": {
   "codemirror_mode": {
    "name": "ipython",
    "version": 3
   },
   "file_extension": ".py",
   "mimetype": "text/x-python",
   "name": "python",
   "nbconvert_exporter": "python",
   "pygments_lexer": "ipython3",
   "version": "3.9.13"
  }
 },
 "nbformat": 4,
 "nbformat_minor": 4
}
