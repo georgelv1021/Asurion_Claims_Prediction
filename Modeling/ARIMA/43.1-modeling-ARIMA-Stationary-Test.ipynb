{
 "cells": [
  {
   "cell_type": "markdown",
   "metadata": {},
   "source": [
    "# 43.1-modeling-ARIMA-Stationary-Test\n",
    "\n",
    "> This notebook checks whether stationary applies to iPhone 11-13 data. The purpose of the notebook is to understand in what situations does stationarity exist, which means that the statistical properties of a process generating a time series do not change over time. If data is stationary, then it would be easier to analyze as this statistical consistency makes distributions predictable enabling forecasting."
   ]
  },
  {
   "cell_type": "code",
   "execution_count": 45,
   "metadata": {},
   "outputs": [],
   "source": [
    "import pandas as pd\n",
    "import numpy as np\n",
    "import seaborn as sns\n",
    "import matplotlib.pyplot as plt\n",
    "\n",
    "import pmdarima as pm\n",
    "import os\n",
    "from sklearn.metrics import mean_absolute_error, mean_absolute_percentage_error, mean_squared_error\n",
    "from statsmodels.graphics.tsaplots import plot_acf, plot_pacf\n",
    "from statsmodels.tsa.ar_model import AutoReg\n",
    "from pmdarima.arima import ADFTest\n",
    "from statsmodels.tsa.stattools import adfuller\n",
    "from statsmodels.tsa.arima.model import ARIMA\n",
    "\n",
    "import numpy as np\n",
    "from math import sqrt\n",
    "import warnings"
   ]
  },
  {
   "cell_type": "markdown",
   "metadata": {},
   "source": [
    "# Load the data"
   ]
  },
  {
   "cell_type": "code",
   "execution_count": 46,
   "metadata": {},
   "outputs": [],
   "source": [
    "#Constants/globals\n",
    "os.chdir('/data/p_dsi/teams2023/team9/')\n",
    "os.getcwd()"
   ]
  },
  {
   "cell_type": "code",
   "execution_count": 47,
   "metadata": {},
   "outputs": [
    {
     "name": "stdout",
     "output_type": "stream",
     "text": [
      "<class 'pandas.core.frame.DataFrame'>\n",
      "RangeIndex: 11684 entries, 0 to 11683\n",
      "Data columns (total 12 columns):\n",
      " #   Column            Non-Null Count  Dtype \n",
      "---  ------            --------------  ----- \n",
      " 0   phone model       11684 non-null  object\n",
      " 1   phone size        11684 non-null  object\n",
      " 2   phone color       11684 non-null  object\n",
      " 3   claim             11684 non-null  int64 \n",
      " 4   weeks_monday      11684 non-null  object\n",
      " 5   month             11684 non-null  object\n",
      " 6   year              11684 non-null  int64 \n",
      " 7   season            11684 non-null  object\n",
      " 8   quarter           11684 non-null  object\n",
      " 9   Holidays_Boolean  11684 non-null  bool  \n",
      " 10  company           11684 non-null  object\n",
      " 11  model_group       11684 non-null  object\n",
      "dtypes: bool(1), int64(2), object(9)\n",
      "memory usage: 1015.6+ KB\n"
     ]
    },
    {
     "data": {
      "text/plain": [
       "None"
      ]
     },
     "metadata": {},
     "output_type": "display_data"
    },
    {
     "data": {
      "text/html": [
       "<div>\n",
       "<style scoped>\n",
       "    .dataframe tbody tr th:only-of-type {\n",
       "        vertical-align: middle;\n",
       "    }\n",
       "\n",
       "    .dataframe tbody tr th {\n",
       "        vertical-align: top;\n",
       "    }\n",
       "\n",
       "    .dataframe thead th {\n",
       "        text-align: right;\n",
       "    }\n",
       "</style>\n",
       "<table border=\"1\" class=\"dataframe\">\n",
       "  <thead>\n",
       "    <tr style=\"text-align: right;\">\n",
       "      <th></th>\n",
       "      <th>phone model</th>\n",
       "      <th>phone size</th>\n",
       "      <th>phone color</th>\n",
       "      <th>claim</th>\n",
       "      <th>weeks_monday</th>\n",
       "      <th>month</th>\n",
       "      <th>year</th>\n",
       "      <th>season</th>\n",
       "      <th>quarter</th>\n",
       "      <th>Holidays_Boolean</th>\n",
       "      <th>company</th>\n",
       "      <th>model_group</th>\n",
       "    </tr>\n",
       "  </thead>\n",
       "  <tbody>\n",
       "    <tr>\n",
       "      <th>0</th>\n",
       "      <td>apple iphone 11</td>\n",
       "      <td>128gb</td>\n",
       "      <td>black</td>\n",
       "      <td>252</td>\n",
       "      <td>2022-01-24</td>\n",
       "      <td>January</td>\n",
       "      <td>2022</td>\n",
       "      <td>winter</td>\n",
       "      <td>Q1</td>\n",
       "      <td>False</td>\n",
       "      <td>apple</td>\n",
       "      <td>iphone 11</td>\n",
       "    </tr>\n",
       "    <tr>\n",
       "      <th>1</th>\n",
       "      <td>apple iphone 11</td>\n",
       "      <td>128gb</td>\n",
       "      <td>green</td>\n",
       "      <td>45</td>\n",
       "      <td>2022-01-24</td>\n",
       "      <td>January</td>\n",
       "      <td>2022</td>\n",
       "      <td>winter</td>\n",
       "      <td>Q1</td>\n",
       "      <td>False</td>\n",
       "      <td>apple</td>\n",
       "      <td>iphone 11</td>\n",
       "    </tr>\n",
       "    <tr>\n",
       "      <th>2</th>\n",
       "      <td>apple iphone 11</td>\n",
       "      <td>128gb</td>\n",
       "      <td>purple</td>\n",
       "      <td>92</td>\n",
       "      <td>2022-01-24</td>\n",
       "      <td>January</td>\n",
       "      <td>2022</td>\n",
       "      <td>winter</td>\n",
       "      <td>Q1</td>\n",
       "      <td>False</td>\n",
       "      <td>apple</td>\n",
       "      <td>iphone 11</td>\n",
       "    </tr>\n",
       "    <tr>\n",
       "      <th>3</th>\n",
       "      <td>apple iphone 11</td>\n",
       "      <td>128gb</td>\n",
       "      <td>red</td>\n",
       "      <td>69</td>\n",
       "      <td>2022-01-24</td>\n",
       "      <td>January</td>\n",
       "      <td>2022</td>\n",
       "      <td>winter</td>\n",
       "      <td>Q1</td>\n",
       "      <td>False</td>\n",
       "      <td>apple</td>\n",
       "      <td>iphone 11</td>\n",
       "    </tr>\n",
       "    <tr>\n",
       "      <th>4</th>\n",
       "      <td>apple iphone 11</td>\n",
       "      <td>128gb</td>\n",
       "      <td>white</td>\n",
       "      <td>91</td>\n",
       "      <td>2022-01-24</td>\n",
       "      <td>January</td>\n",
       "      <td>2022</td>\n",
       "      <td>winter</td>\n",
       "      <td>Q1</td>\n",
       "      <td>False</td>\n",
       "      <td>apple</td>\n",
       "      <td>iphone 11</td>\n",
       "    </tr>\n",
       "    <tr>\n",
       "      <th>5</th>\n",
       "      <td>apple iphone 11</td>\n",
       "      <td>128gb</td>\n",
       "      <td>yellow</td>\n",
       "      <td>5</td>\n",
       "      <td>2022-01-24</td>\n",
       "      <td>January</td>\n",
       "      <td>2022</td>\n",
       "      <td>winter</td>\n",
       "      <td>Q1</td>\n",
       "      <td>False</td>\n",
       "      <td>apple</td>\n",
       "      <td>iphone 11</td>\n",
       "    </tr>\n",
       "    <tr>\n",
       "      <th>6</th>\n",
       "      <td>apple iphone 11</td>\n",
       "      <td>256gb</td>\n",
       "      <td>black</td>\n",
       "      <td>24</td>\n",
       "      <td>2022-01-24</td>\n",
       "      <td>January</td>\n",
       "      <td>2022</td>\n",
       "      <td>winter</td>\n",
       "      <td>Q1</td>\n",
       "      <td>False</td>\n",
       "      <td>apple</td>\n",
       "      <td>iphone 11</td>\n",
       "    </tr>\n",
       "    <tr>\n",
       "      <th>7</th>\n",
       "      <td>apple iphone 11</td>\n",
       "      <td>256gb</td>\n",
       "      <td>green</td>\n",
       "      <td>3</td>\n",
       "      <td>2022-01-24</td>\n",
       "      <td>January</td>\n",
       "      <td>2022</td>\n",
       "      <td>winter</td>\n",
       "      <td>Q1</td>\n",
       "      <td>False</td>\n",
       "      <td>apple</td>\n",
       "      <td>iphone 11</td>\n",
       "    </tr>\n",
       "    <tr>\n",
       "      <th>8</th>\n",
       "      <td>apple iphone 11</td>\n",
       "      <td>256gb</td>\n",
       "      <td>purple</td>\n",
       "      <td>7</td>\n",
       "      <td>2022-01-24</td>\n",
       "      <td>January</td>\n",
       "      <td>2022</td>\n",
       "      <td>winter</td>\n",
       "      <td>Q1</td>\n",
       "      <td>False</td>\n",
       "      <td>apple</td>\n",
       "      <td>iphone 11</td>\n",
       "    </tr>\n",
       "    <tr>\n",
       "      <th>9</th>\n",
       "      <td>apple iphone 11</td>\n",
       "      <td>256gb</td>\n",
       "      <td>red</td>\n",
       "      <td>9</td>\n",
       "      <td>2022-01-24</td>\n",
       "      <td>January</td>\n",
       "      <td>2022</td>\n",
       "      <td>winter</td>\n",
       "      <td>Q1</td>\n",
       "      <td>False</td>\n",
       "      <td>apple</td>\n",
       "      <td>iphone 11</td>\n",
       "    </tr>\n",
       "  </tbody>\n",
       "</table>\n",
       "</div>"
      ],
      "text/plain": [
       "       phone model phone size phone color  claim weeks_monday    month  year  \\\n",
       "0  apple iphone 11      128gb       black    252   2022-01-24  January  2022   \n",
       "1  apple iphone 11      128gb       green     45   2022-01-24  January  2022   \n",
       "2  apple iphone 11      128gb      purple     92   2022-01-24  January  2022   \n",
       "3  apple iphone 11      128gb         red     69   2022-01-24  January  2022   \n",
       "4  apple iphone 11      128gb       white     91   2022-01-24  January  2022   \n",
       "5  apple iphone 11      128gb      yellow      5   2022-01-24  January  2022   \n",
       "6  apple iphone 11      256gb       black     24   2022-01-24  January  2022   \n",
       "7  apple iphone 11      256gb       green      3   2022-01-24  January  2022   \n",
       "8  apple iphone 11      256gb      purple      7   2022-01-24  January  2022   \n",
       "9  apple iphone 11      256gb         red      9   2022-01-24  January  2022   \n",
       "\n",
       "   season quarter  Holidays_Boolean company model_group  \n",
       "0  winter      Q1             False   apple   iphone 11  \n",
       "1  winter      Q1             False   apple   iphone 11  \n",
       "2  winter      Q1             False   apple   iphone 11  \n",
       "3  winter      Q1             False   apple   iphone 11  \n",
       "4  winter      Q1             False   apple   iphone 11  \n",
       "5  winter      Q1             False   apple   iphone 11  \n",
       "6  winter      Q1             False   apple   iphone 11  \n",
       "7  winter      Q1             False   apple   iphone 11  \n",
       "8  winter      Q1             False   apple   iphone 11  \n",
       "9  winter      Q1             False   apple   iphone 11  "
      ]
     },
     "execution_count": 47,
     "metadata": {},
     "output_type": "execute_result"
    }
   ],
   "source": [
    "#load the data\n",
    "data = pd.read_csv(\"Asurion_clean_data_feature_set.csv\")\n",
    "display(data.info())\n",
    "data.head(10)"
   ]
  },
  {
   "cell_type": "code",
   "execution_count": 49,
   "metadata": {},
   "outputs": [
    {
     "name": "stdout",
     "output_type": "stream",
     "text": [
      "   weeks_monday  claim\n",
      "0    2021-11-15      2\n",
      "1    2021-11-22      3\n",
      "2    2021-11-29      6\n",
      "3    2021-12-06      2\n",
      "4    2021-12-13     10\n",
      "..          ...    ...\n",
      "61   2023-01-16   3828\n",
      "62   2023-01-23   4090\n",
      "63   2023-01-30   3740\n",
      "64   2023-02-06   4270\n",
      "65   2023-02-13    847\n",
      "\n",
      "[66 rows x 2 columns]\n",
      "   weeks_monday  claim\n",
      "0    2021-06-28   1499\n",
      "1    2021-07-05   4068\n",
      "2    2021-07-12   3753\n",
      "3    2021-07-19   3664\n",
      "4    2021-07-26   3583\n",
      "..          ...    ...\n",
      "81   2023-01-16   1856\n",
      "82   2023-01-23   1751\n",
      "83   2023-01-30   1536\n",
      "84   2023-02-06   2157\n",
      "85   2023-02-13    378\n",
      "\n",
      "[86 rows x 2 columns]\n",
      "   weeks_monday  claim\n",
      "0    2021-06-28    422\n",
      "1    2021-07-05   1017\n",
      "2    2021-07-12   1045\n",
      "3    2021-07-19   1144\n",
      "4    2021-07-26   1157\n",
      "..          ...    ...\n",
      "81   2023-01-16   4277\n",
      "82   2023-01-23   4136\n",
      "83   2023-01-30   3764\n",
      "84   2023-02-06   4604\n",
      "85   2023-02-13    807\n",
      "\n",
      "[86 rows x 2 columns]\n"
     ]
    },
    {
     "data": {
      "image/png": "[encoded data removed]",
      "text/plain": [
       "<Figure size 640x480 with 1 Axes>"
      ]
     },
     "metadata": {},
     "output_type": "display_data"
    }
   ],
   "source": [
    "iphone13 = data[data[\"model_group\"] == \"iphone 13\"]\n",
    "result_iphone_13 = iphone13.groupby(['weeks_monday'], as_index = False).agg({'claim': np.sum})\n",
    "\n",
    "print(result_iphone_13)\n",
    "result_iphone_13.plot()\n",
    "plt.title(\"iPhone 13 Plot\")\n",
    "\n",
    "iphone11 = data[data[\"model_group\"] == \"iphone 11\"]\n",
    "result_iphone_11 = iphone11.groupby(['weeks_monday'], as_index = False).agg({'claim': np.sum})\n",
    "\n",
    "print(result_iphone_11)\n",
    "\n",
    "iphone12 = data[data[\"model_group\"] == \"iphone 12\"]\n",
    "result_iphone_12 = iphone12.groupby(['weeks_monday'], as_index = False).agg({'claim': np.sum})\n",
    "\n",
    "print(result_iphone_12)"
   ]
  },
  {
   "cell_type": "code",
   "execution_count": 50,
   "metadata": {},
   "outputs": [
    {
     "data": {
      "text/html": [
       "<div>\n",
       "<style scoped>\n",
       "    .dataframe tbody tr th:only-of-type {\n",
       "        vertical-align: middle;\n",
       "    }\n",
       "\n",
       "    .dataframe tbody tr th {\n",
       "        vertical-align: top;\n",
       "    }\n",
       "\n",
       "    .dataframe thead th {\n",
       "        text-align: right;\n",
       "    }\n",
       "</style>\n",
       "<table border=\"1\" class=\"dataframe\">\n",
       "  <thead>\n",
       "    <tr style=\"text-align: right;\">\n",
       "      <th></th>\n",
       "      <th>weeks_monday</th>\n",
       "      <th>claim</th>\n",
       "    </tr>\n",
       "  </thead>\n",
       "  <tbody>\n",
       "    <tr>\n",
       "      <th>0</th>\n",
       "      <td>2021-11-15</td>\n",
       "      <td>2</td>\n",
       "    </tr>\n",
       "    <tr>\n",
       "      <th>1</th>\n",
       "      <td>2021-11-22</td>\n",
       "      <td>3</td>\n",
       "    </tr>\n",
       "    <tr>\n",
       "      <th>2</th>\n",
       "      <td>2021-11-29</td>\n",
       "      <td>6</td>\n",
       "    </tr>\n",
       "    <tr>\n",
       "      <th>3</th>\n",
       "      <td>2021-12-06</td>\n",
       "      <td>2</td>\n",
       "    </tr>\n",
       "    <tr>\n",
       "      <th>4</th>\n",
       "      <td>2021-12-13</td>\n",
       "      <td>10</td>\n",
       "    </tr>\n",
       "    <tr>\n",
       "      <th>...</th>\n",
       "      <td>...</td>\n",
       "      <td>...</td>\n",
       "    </tr>\n",
       "    <tr>\n",
       "      <th>60</th>\n",
       "      <td>2023-01-09</td>\n",
       "      <td>3616</td>\n",
       "    </tr>\n",
       "    <tr>\n",
       "      <th>61</th>\n",
       "      <td>2023-01-16</td>\n",
       "      <td>3828</td>\n",
       "    </tr>\n",
       "    <tr>\n",
       "      <th>62</th>\n",
       "      <td>2023-01-23</td>\n",
       "      <td>4090</td>\n",
       "    </tr>\n",
       "    <tr>\n",
       "      <th>63</th>\n",
       "      <td>2023-01-30</td>\n",
       "      <td>3740</td>\n",
       "    </tr>\n",
       "    <tr>\n",
       "      <th>64</th>\n",
       "      <td>2023-02-06</td>\n",
       "      <td>4270</td>\n",
       "    </tr>\n",
       "  </tbody>\n",
       "</table>\n",
       "<p>65 rows × 2 columns</p>\n",
       "</div>"
      ],
      "text/plain": [
       "   weeks_monday  claim\n",
       "0    2021-11-15      2\n",
       "1    2021-11-22      3\n",
       "2    2021-11-29      6\n",
       "3    2021-12-06      2\n",
       "4    2021-12-13     10\n",
       "..          ...    ...\n",
       "60   2023-01-09   3616\n",
       "61   2023-01-16   3828\n",
       "62   2023-01-23   4090\n",
       "63   2023-01-30   3740\n",
       "64   2023-02-06   4270\n",
       "\n",
       "[65 rows x 2 columns]"
      ]
     },
     "metadata": {},
     "output_type": "display_data"
    },
    {
     "data": {
      "image/png": "[encoded data removed]",
      "text/plain": [
       "<Figure size 640x480 with 1 Axes>"
      ]
     },
     "metadata": {},
     "output_type": "display_data"
    }
   ],
   "source": [
    "# Removing last data point as recommended by professor, we have reason to think that the data is an outlier due to\n",
    "# the data being incomplete\n",
    "\n",
    "result_iphone_13 = result_iphone_13[:65]\n",
    "\n",
    "display(result_iphone_13)\n",
    "\n",
    "result_iphone_13.plot()\n",
    "plt.title(\"iPhone 13 Claims Data Without Outlier\")\n",
    "\n",
    "result_iphone_11 = result_iphone_11[:-1]\n",
    "result_iphone_12 = result_iphone_12[:-1]"
   ]
  },
  {
   "cell_type": "code",
   "execution_count": 51,
   "metadata": {},
   "outputs": [],
   "source": [
    "# Changed up result_iphone_11, result_iphone_11, result_iphone_13 so it can use the weeks_monday\n",
    "\n",
    "result_iphone_13['weeks_monday'] = pd.to_datetime(result_iphone_13['weeks_monday'])\n",
    "result_iphone_13.set_index('weeks_monday', inplace = True)\n",
    "# Changed up result_iphone_13 so it can use the weeks_monday\n",
    "\n",
    "result_iphone_11['weeks_monday'] = pd.to_datetime(result_iphone_11['weeks_monday'])\n",
    "result_iphone_11.set_index('weeks_monday', inplace = True)\n",
    "\n",
    "result_iphone_12['weeks_monday'] = pd.to_datetime(result_iphone_12['weeks_monday'])\n",
    "result_iphone_12.set_index('weeks_monday', inplace = True)"
   ]
  },
  {
   "cell_type": "code",
   "execution_count": 52,
   "metadata": {},
   "outputs": [
    {
     "data": {
      "text/html": [
       "<div>\n",
       "<style scoped>\n",
       "    .dataframe tbody tr th:only-of-type {\n",
       "        vertical-align: middle;\n",
       "    }\n",
       "\n",
       "    .dataframe tbody tr th {\n",
       "        vertical-align: top;\n",
       "    }\n",
       "\n",
       "    .dataframe thead th {\n",
       "        text-align: right;\n",
       "    }\n",
       "</style>\n",
       "<table border=\"1\" class=\"dataframe\">\n",
       "  <thead>\n",
       "    <tr style=\"text-align: right;\">\n",
       "      <th></th>\n",
       "      <th>claim</th>\n",
       "    </tr>\n",
       "    <tr>\n",
       "      <th>weeks_monday</th>\n",
       "      <th></th>\n",
       "    </tr>\n",
       "  </thead>\n",
       "  <tbody>\n",
       "    <tr>\n",
       "      <th>2021-11-15</th>\n",
       "      <td>2</td>\n",
       "    </tr>\n",
       "    <tr>\n",
       "      <th>2021-11-22</th>\n",
       "      <td>3</td>\n",
       "    </tr>\n",
       "    <tr>\n",
       "      <th>2021-11-29</th>\n",
       "      <td>6</td>\n",
       "    </tr>\n",
       "    <tr>\n",
       "      <th>2021-12-06</th>\n",
       "      <td>2</td>\n",
       "    </tr>\n",
       "    <tr>\n",
       "      <th>2021-12-13</th>\n",
       "      <td>10</td>\n",
       "    </tr>\n",
       "  </tbody>\n",
       "</table>\n",
       "</div>"
      ],
      "text/plain": [
       "              claim\n",
       "weeks_monday       \n",
       "2021-11-15        2\n",
       "2021-11-22        3\n",
       "2021-11-29        6\n",
       "2021-12-06        2\n",
       "2021-12-13       10"
      ]
     },
     "metadata": {},
     "output_type": "display_data"
    },
    {
     "name": "stdout",
     "output_type": "stream",
     "text": [
      "<class 'pandas.core.frame.DataFrame'>\n",
      "DatetimeIndex: 65 entries, 2021-11-15 to 2023-02-06\n",
      "Data columns (total 1 columns):\n",
      " #   Column  Non-Null Count  Dtype\n",
      "---  ------  --------------  -----\n",
      " 0   claim   65 non-null     int64\n",
      "dtypes: int64(1)\n",
      "memory usage: 1.0 KB\n"
     ]
    },
    {
     "data": {
      "text/html": [
       "<div>\n",
       "<style scoped>\n",
       "    .dataframe tbody tr th:only-of-type {\n",
       "        vertical-align: middle;\n",
       "    }\n",
       "\n",
       "    .dataframe tbody tr th {\n",
       "        vertical-align: top;\n",
       "    }\n",
       "\n",
       "    .dataframe thead th {\n",
       "        text-align: right;\n",
       "    }\n",
       "</style>\n",
       "<table border=\"1\" class=\"dataframe\">\n",
       "  <thead>\n",
       "    <tr style=\"text-align: right;\">\n",
       "      <th></th>\n",
       "      <th>claim</th>\n",
       "    </tr>\n",
       "    <tr>\n",
       "      <th>weeks_monday</th>\n",
       "      <th></th>\n",
       "    </tr>\n",
       "  </thead>\n",
       "  <tbody>\n",
       "    <tr>\n",
       "      <th>2021-06-28</th>\n",
       "      <td>1499</td>\n",
       "    </tr>\n",
       "    <tr>\n",
       "      <th>2021-07-05</th>\n",
       "      <td>4068</td>\n",
       "    </tr>\n",
       "    <tr>\n",
       "      <th>2021-07-12</th>\n",
       "      <td>3753</td>\n",
       "    </tr>\n",
       "    <tr>\n",
       "      <th>2021-07-19</th>\n",
       "      <td>3664</td>\n",
       "    </tr>\n",
       "    <tr>\n",
       "      <th>2021-07-26</th>\n",
       "      <td>3583</td>\n",
       "    </tr>\n",
       "  </tbody>\n",
       "</table>\n",
       "</div>"
      ],
      "text/plain": [
       "              claim\n",
       "weeks_monday       \n",
       "2021-06-28     1499\n",
       "2021-07-05     4068\n",
       "2021-07-12     3753\n",
       "2021-07-19     3664\n",
       "2021-07-26     3583"
      ]
     },
     "metadata": {},
     "output_type": "display_data"
    },
    {
     "name": "stdout",
     "output_type": "stream",
     "text": [
      "<class 'pandas.core.frame.DataFrame'>\n",
      "DatetimeIndex: 85 entries, 2021-06-28 to 2023-02-06\n",
      "Data columns (total 1 columns):\n",
      " #   Column  Non-Null Count  Dtype\n",
      "---  ------  --------------  -----\n",
      " 0   claim   85 non-null     int64\n",
      "dtypes: int64(1)\n",
      "memory usage: 1.3 KB\n"
     ]
    },
    {
     "data": {
      "text/html": [
       "<div>\n",
       "<style scoped>\n",
       "    .dataframe tbody tr th:only-of-type {\n",
       "        vertical-align: middle;\n",
       "    }\n",
       "\n",
       "    .dataframe tbody tr th {\n",
       "        vertical-align: top;\n",
       "    }\n",
       "\n",
       "    .dataframe thead th {\n",
       "        text-align: right;\n",
       "    }\n",
       "</style>\n",
       "<table border=\"1\" class=\"dataframe\">\n",
       "  <thead>\n",
       "    <tr style=\"text-align: right;\">\n",
       "      <th></th>\n",
       "      <th>claim</th>\n",
       "    </tr>\n",
       "    <tr>\n",
       "      <th>weeks_monday</th>\n",
       "      <th></th>\n",
       "    </tr>\n",
       "  </thead>\n",
       "  <tbody>\n",
       "    <tr>\n",
       "      <th>2021-06-28</th>\n",
       "      <td>422</td>\n",
       "    </tr>\n",
       "    <tr>\n",
       "      <th>2021-07-05</th>\n",
       "      <td>1017</td>\n",
       "    </tr>\n",
       "    <tr>\n",
       "      <th>2021-07-12</th>\n",
       "      <td>1045</td>\n",
       "    </tr>\n",
       "    <tr>\n",
       "      <th>2021-07-19</th>\n",
       "      <td>1144</td>\n",
       "    </tr>\n",
       "    <tr>\n",
       "      <th>2021-07-26</th>\n",
       "      <td>1157</td>\n",
       "    </tr>\n",
       "  </tbody>\n",
       "</table>\n",
       "</div>"
      ],
      "text/plain": [
       "              claim\n",
       "weeks_monday       \n",
       "2021-06-28      422\n",
       "2021-07-05     1017\n",
       "2021-07-12     1045\n",
       "2021-07-19     1144\n",
       "2021-07-26     1157"
      ]
     },
     "metadata": {},
     "output_type": "display_data"
    },
    {
     "name": "stdout",
     "output_type": "stream",
     "text": [
      "<class 'pandas.core.frame.DataFrame'>\n",
      "DatetimeIndex: 85 entries, 2021-06-28 to 2023-02-06\n",
      "Data columns (total 1 columns):\n",
      " #   Column  Non-Null Count  Dtype\n",
      "---  ------  --------------  -----\n",
      " 0   claim   85 non-null     int64\n",
      "dtypes: int64(1)\n",
      "memory usage: 1.3 KB\n"
     ]
    }
   ],
   "source": [
    "# Creating a copy version to conduct the stationary tests\n",
    "result_iphone_13_v1 = result_iphone_13.copy()\n",
    "\n",
    "display(result_iphone_13.head())\n",
    "result_iphone_13.info()\n",
    "\n",
    "result_iphone_11_v1 = result_iphone_11.copy()\n",
    "\n",
    "display(result_iphone_11.head())\n",
    "result_iphone_11.info()\n",
    "\n",
    "result_iphone_12_v1 = result_iphone_12.copy()\n",
    "\n",
    "display(result_iphone_12.head())\n",
    "result_iphone_12.info()"
   ]
  },
  {
   "cell_type": "code",
   "execution_count": 18,
   "metadata": {},
   "outputs": [
    {
     "data": {
      "text/plain": [
       "Text(0.5, 1.0, 'iPhone 13 Claims Data')"
      ]
     },
     "execution_count": 18,
     "metadata": {},
     "output_type": "execute_result"
    },
    {
     "data": {
      "image/png": "[encoded data removed]",
      "text/plain": [
       "<Figure size 640x480 with 1 Axes>"
      ]
     },
     "metadata": {},
     "output_type": "display_data"
    }
   ],
   "source": [
    "result_iphone_13.plot()\n",
    "plt.title(\"iPhone 13 Claims Data\")\n",
    "# Checking with the iPhone 13 data if the weeks_monday was converted properly\n",
    "# Plot has x-axis as weeks_monday"
   ]
  },
  {
   "cell_type": "markdown",
   "metadata": {},
   "source": [
    "# Stationary Test\n",
    "\n",
    "## iPhone 13"
   ]
  },
  {
   "cell_type": "markdown",
   "metadata": {},
   "source": [
    "### iPhone 13 - Stationary Method #1 - Stepwise Implementation\n",
    "\n",
    "##### We see that iPhone 13 is not stationary in this method, so we try the ADF method"
   ]
  },
  {
   "cell_type": "code",
   "execution_count": 39,
   "metadata": {},
   "outputs": [
    {
     "name": "stdout",
     "output_type": "stream",
     "text": [
      "mean1=118.904762, mean2=1815.857143, mean3=3248.619048\n",
      "variance1=28759.419501, variance2=597250.693878, variance3=184272.997732\n"
     ]
    }
   ],
   "source": [
    "values = result_iphone_13_v1.values\n",
    " \n",
    "# getting the count to split the dataset into 3 parts\n",
    "parts = int(len(values)/3)\n",
    " \n",
    "# splitting the data into three parts\n",
    "part_1, part_2, part_3 = values[0:parts], values[parts:(\n",
    "    parts*2)], values[(parts*2):(parts*3)]\n",
    " \n",
    "# calculating the mean of the separated three parts of data individually.\n",
    "mean_1, mean_2, mean_3 = part_1.mean(), part_2.mean(), part_3.mean()\n",
    " \n",
    "# calculating the variance of the separated three parts of data individually.\n",
    "var_1, var_2, var_3 = part_1.var(), part_2.var(), part_3.var()\n",
    " \n",
    "# printing the mean of three groups\n",
    "print('mean1=%f, mean2=%f, mean3=%f' % (mean_1, mean_2, mean_3))\n",
    " \n",
    "# printing the variance of three groups\n",
    "print('variance1=%f, variance2=%f, variance3=%f' % (var_1, var_2, var_3))\n",
    "\n",
    "# We see that it's not stationary in this test, we will move on to seeing the log version"
   ]
  },
  {
   "cell_type": "code",
   "execution_count": 38,
   "metadata": {},
   "outputs": [
    {
     "name": "stdout",
     "output_type": "stream",
     "text": [
      "mean1=3.413182, mean2=7.396926, mean3=8.076850\n",
      "variance1=3.356000, variance2=0.235996, variance3=0.018746\n"
     ]
    }
   ],
   "source": [
    "# Checking if stationary applies when using log values to normalize iPhone 13 through stepwise implementation\n",
    "\n",
    "values = np.log(result_iphone_13_v1.values)\n",
    " \n",
    "# getting the count to split the dataset into 3 parts\n",
    "parts = int(len(values)/3)\n",
    " \n",
    "# splitting the data into three parts\n",
    "part_1, part_2, part_3 = values[0:parts], values[parts:(\n",
    "    parts*2)], values[(parts*2):(parts*3)]\n",
    " \n",
    "# calculating the mean of the separated three parts of data individually.\n",
    "mean_1, mean_2, mean_3 = part_1.mean(), part_2.mean(), part_3.mean()\n",
    " \n",
    "# calculating the variance of the separated three parts of data individually.\n",
    "var_1, var_2, var_3 = part_1.var(), part_2.var(), part_3.var()\n",
    " \n",
    "# printing the mean of three groups\n",
    "print('mean1=%f, mean2=%f, mean3=%f' % (mean_1, mean_2, mean_3))\n",
    " \n",
    "# printing the variance of three groups\n",
    "print('variance1=%f, variance2=%f, variance3=%f' % (var_1, var_2, var_3))"
   ]
  },
  {
   "cell_type": "markdown",
   "metadata": {},
   "source": [
    "### iPhone 13 - Stationary Method #2 - Augmented Dickey-Fuller Test\n",
    "\n",
    "##### We see that the iPhone 13 is stationary when we normalize the iPhone 13 data with log"
   ]
  },
  {
   "cell_type": "code",
   "execution_count": 42,
   "metadata": {},
   "outputs": [
    {
     "name": "stdout",
     "output_type": "stream",
     "text": [
      "Augmneted Dickey_fuller Statistic: -0.134980\n",
      "p-value: 0.945841\n",
      "critical values at different levels:\n",
      "\t1%: -3.537\n",
      "\t5%: -2.908\n",
      "\t10%: -2.591\n"
     ]
    }
   ],
   "source": [
    "# Ho (Null Hypothesis): The time series data is non-stationary\n",
    "# H1 (alternate Hypothesis): The time series data is stationary\n",
    "# The test results are interpreted with a p-value if p > 0.05 fails to reject the null hypothesis, \n",
    "# else if p <= 0.05 reject the null hypothesis.\n",
    "\n",
    "values = result_iphone_13_v1.values\n",
    " \n",
    "# passing the extracted value count to adfuller function.\n",
    "# result of adfuller function is stored in a res variable\n",
    "res = adfuller(values)\n",
    " \n",
    "# Printing the statistical result of the adfuller test\n",
    "print('Augmneted Dickey_fuller Statistic: %f' % res[0])\n",
    "print('p-value: %f' % res[1])\n",
    " \n",
    "# printing the critical values at different alpha levels.\n",
    "print('critical values at different levels:')\n",
    "for k, v in res[4].items():\n",
    "    print('\\t%s: %.3f' % (k, v))\n",
    "\n",
    "\n",
    "# p-value is 0.945841, which is greater than 0.05, so we fail to reject the null hypothesis at 90%, 95%, and 99% confidence,\n",
    "# meaning the time series data is strongly non-stationary. Thus, the ADF test suggests our data is non-stationary"
   ]
  },
  {
   "cell_type": "code",
   "execution_count": 44,
   "metadata": {},
   "outputs": [
    {
     "name": "stdout",
     "output_type": "stream",
     "text": [
      "Augmneted Dickey_fuller Statistic: -8.396755\n",
      "p-value: 0.000000\n",
      "critical values at different levels:\n",
      "\t1%: -3.555\n",
      "\t5%: -2.916\n",
      "\t10%: -2.596\n"
     ]
    }
   ],
   "source": [
    "# Normalizing the iPhone 13 log function to see if ADF shows there is stationary data\n",
    "\n",
    "# Ho (Null Hypothesis): The time series data is non-stationary\n",
    "# H1 (alternate Hypothesis): The time series data is stationary\n",
    "# The test results are interpreted with a p-value if p > 0.05 fails to reject the null hypothesis, \n",
    "# else if p <= 0.05 reject the null hypothesis.\n",
    "\n",
    "# values function and applying log transform on it.\n",
    "values = np.log(result_iphone_13_v1.values)\n",
    " \n",
    "# passing the extracted passengers count to adfuller function.\n",
    "# result of adfuller function is stored in a res variable\n",
    "res = adfuller(values)\n",
    " \n",
    "# Printing the statistical result of the adfuller test\n",
    "print('Augmneted Dickey_fuller Statistic: %f' % res[0])\n",
    "print('p-value: %f' % res[1])\n",
    " \n",
    "# printing the critical values at different alpha levels.\n",
    "print('critical values at different levels:')\n",
    "for k, v in res[4].items():\n",
    "    print('\\t%s: %.3f' % (k, v))\n",
    "    \n",
    "\n",
    "# The p-value = 0, which means that the iPhone 13 data is stationary when we apply log to normalize it"
   ]
  },
  {
   "cell_type": "markdown",
   "metadata": {},
   "source": [
    "## iPhone 11\n",
    "\n",
    "### iPhone 11 - Stationary Method #1 - Stepwise Implementation"
   ]
  },
  {
   "cell_type": "code",
   "execution_count": 55,
   "metadata": {},
   "outputs": [
    {
     "name": "stdout",
     "output_type": "stream",
     "text": [
      "mean1=3338.357143, mean2=2416.357143, mean3=2327.321429\n",
      "variance1=205211.729592, variance2=44723.872449, variance3=114894.932398\n"
     ]
    }
   ],
   "source": [
    "values = result_iphone_11_v1.values\n",
    " \n",
    "# getting the count to split the dataset into 3 parts\n",
    "parts = int(len(values)/3)\n",
    " \n",
    "# splitting the data into three parts\n",
    "part_1, part_2, part_3 = values[0:parts], values[parts:(\n",
    "    parts*2)], values[(parts*2):(parts*3)]\n",
    " \n",
    "# calculating the mean of the separated three\n",
    "# parts of data individually.\n",
    "mean_1, mean_2, mean_3 = part_1.mean(), part_2.mean(), part_3.mean()\n",
    " \n",
    "# calculating the variance of the separated\n",
    "# three parts of data individually.\n",
    "var_1, var_2, var_3 = part_1.var(), part_2.var(), part_3.var()\n",
    " \n",
    "# printing the mean of three groups\n",
    "print('mean1=%f, mean2=%f, mean3=%f' % (mean_1, mean_2, mean_3))\n",
    " \n",
    "# printing the variance of three groups\n",
    "print('variance1=%f, variance2=%f, variance3=%f' % (var_1, var_2, var_3))\n",
    "\n",
    "# The mean values and variance is too different, so we see that it's not stationary"
   ]
  },
  {
   "cell_type": "code",
   "execution_count": 56,
   "metadata": {},
   "outputs": [
    {
     "name": "stdout",
     "output_type": "stream",
     "text": [
      "mean1=8.100642, mean2=7.786110, mean3=7.741152\n",
      "variance1=0.029997, variance2=0.007906, variance3=0.023487\n"
     ]
    }
   ],
   "source": [
    "# Checking if stationary applies to iPhone 11 values after normalizing the data through log values\n",
    "\n",
    "values = np.log(result_iphone_11_v1.values)\n",
    " \n",
    "# getting the count to split the dataset into 3 parts\n",
    "parts = int(len(values)/3)\n",
    " \n",
    "# splitting the data into three parts\n",
    "part_1, part_2, part_3 = values[0:parts], values[parts:(\n",
    "    parts*2)], values[(parts*2):(parts*3)]\n",
    " \n",
    "# calculating the mean of the separated three\n",
    "# parts of data individually.\n",
    "mean_1, mean_2, mean_3 = part_1.mean(), part_2.mean(), part_3.mean()\n",
    " \n",
    "# calculating the variance of the separated\n",
    "# three parts of data individually.\n",
    "var_1, var_2, var_3 = part_1.var(), part_2.var(), part_3.var()\n",
    " \n",
    "# printing the mean of three groups\n",
    "print('mean1=%f, mean2=%f, mean3=%f' % (mean_1, mean_2, mean_3))\n",
    " \n",
    "# printing the variance of three groups\n",
    "print('variance1=%f, variance2=%f, variance3=%f' % (var_1, var_2, var_3))\n",
    "\n",
    "# The mean values are relatively similar and the variances are small, so there is potential reason to believe that the\n",
    "# iphone 11 data is stationary"
   ]
  },
  {
   "cell_type": "markdown",
   "metadata": {},
   "source": [
    "### iPhone 11 - Stationary Method #2 - Augmented Dickey-Fuller Test\n",
    "\n",
    "##### We see that the data is not stationary for iPhone 11 under the ADF test"
   ]
  },
  {
   "cell_type": "code",
   "execution_count": 53,
   "metadata": {},
   "outputs": [
    {
     "name": "stdout",
     "output_type": "stream",
     "text": [
      "Augmneted Dickey_fuller Statistic: -1.954614\n",
      "p-value: 0.306821\n",
      "critical values at different levels:\n",
      "\t1%: -3.512\n",
      "\t5%: -2.897\n",
      "\t10%: -2.586\n"
     ]
    }
   ],
   "source": [
    "# Ho (Null Hypothesis): The time series data is non-stationary\n",
    "# H1 (alternate Hypothesis): The time series data is stationary\n",
    "# The test results are interpreted with a p-value if p > 0.05 fails to reject the null hypothesis, \n",
    "# else if p <= 0.05 reject the null hypothesis.\n",
    "\n",
    "values = result_iphone_11_v1.values\n",
    " \n",
    "# passing the extracted value count to adfuller function.\n",
    "# result of adfuller function is stored in a res variable\n",
    "res = adfuller(values)\n",
    " \n",
    "# Printing the statistical result of the adfuller test\n",
    "print('Augmneted Dickey_fuller Statistic: %f' % res[0])\n",
    "print('p-value: %f' % res[1])\n",
    " \n",
    "# printing the critical values at different alpha levels.\n",
    "print('critical values at different levels:')\n",
    "for k, v in res[4].items():\n",
    "    print('\\t%s: %.3f' % (k, v))\n",
    "\n",
    "\n",
    "# p-value is 0.306821, which is greater than 0.05, so we fail to reject the null hypothesis at 90%, 95%, and 99% confidence,\n",
    "# meaning the time series data is strongly non-stationary. Thus, the ADF test suggests our data is non-stationary"
   ]
  },
  {
   "cell_type": "code",
   "execution_count": 54,
   "metadata": {},
   "outputs": [
    {
     "name": "stdout",
     "output_type": "stream",
     "text": [
      "Augmneted Dickey_fuller Statistic: -1.914779\n",
      "p-value: 0.325141\n",
      "critical values at different levels:\n",
      "\t1%: -3.512\n",
      "\t5%: -2.897\n",
      "\t10%: -2.586\n"
     ]
    }
   ],
   "source": [
    "# Applying log function on iphone 11 data to see if ADF shows there is stationary data\n",
    "\n",
    "# Ho (Null Hypothesis): The time series data is non-stationary\n",
    "# H1 (alternate Hypothesis): The time series data is stationary\n",
    "# The test results are interpreted with a p-value if p > 0.05 fails to reject the null hypothesis, \n",
    "# else if p <= 0.05 reject the null hypothesis.\n",
    "\n",
    "# values function and applying log transform on it.\n",
    "values = np.log(result_iphone_11_v1.values)\n",
    " \n",
    "# passing the extracted passengers count to adfuller function.\n",
    "# result of adfuller function is stored in a res variable\n",
    "res = adfuller(values)\n",
    " \n",
    "# Printing the statistical result of the adfuller test\n",
    "print('Augmneted Dickey_fuller Statistic: %f' % res[0])\n",
    "print('p-value: %f' % res[1])\n",
    " \n",
    "# printing the critical values at different alpha levels.\n",
    "print('critical values at different levels:')\n",
    "for k, v in res[4].items():\n",
    "    print('\\t%s: %.3f' % (k, v))\n",
    "    \n",
    "# p-value is 0.325141, which is greater than 0.05, so we fail to reject the null hypothesis at 90%, 95%, and 99% confidence,\n",
    "# meaning the time series data is strongly non-stationary. Thus, the ADF test suggests our data is non-stationary"
   ]
  },
  {
   "cell_type": "markdown",
   "metadata": {},
   "source": [
    "## iPhone 12\n",
    "\n",
    "### iPhone 12 - Stationary Method #1 - Stepwise Implementation\n",
    "\n",
    "##### We see that iPhone 12 is not stationary in this method, so we try the ADF method"
   ]
  },
  {
   "cell_type": "code",
   "execution_count": 60,
   "metadata": {},
   "outputs": [
    {
     "name": "stdout",
     "output_type": "stream",
     "text": [
      "mean1=1681.035714, mean2=2665.035714, mean3=4114.821429\n",
      "variance1=233380.177296, variance2=259333.034439, variance3=94236.360969\n"
     ]
    }
   ],
   "source": [
    "values = result_iphone_12_v1.values\n",
    " \n",
    "# getting the count to split the dataset into 3 parts\n",
    "parts = int(len(values)/3)\n",
    " \n",
    "# splitting the data into three parts\n",
    "part_1, part_2, part_3 = values[0:parts], values[parts:(\n",
    "    parts*2)], values[(parts*2):(parts*3)]\n",
    " \n",
    "# calculating the mean of the separated three\n",
    "# parts of data individually.\n",
    "mean_1, mean_2, mean_3 = part_1.mean(), part_2.mean(), part_3.mean()\n",
    " \n",
    "# calculating the variance of the separated\n",
    "# three parts of data individually.\n",
    "var_1, var_2, var_3 = part_1.var(), part_2.var(), part_3.var()\n",
    " \n",
    "# printing the mean of three groups\n",
    "print('mean1=%f, mean2=%f, mean3=%f' % (mean_1, mean_2, mean_3))\n",
    " \n",
    "# printing the variance of three groups\n",
    "print('variance1=%f, variance2=%f, variance3=%f' % (var_1, var_2, var_3))\n",
    "\n",
    "# We see that it's not stationary"
   ]
  },
  {
   "cell_type": "code",
   "execution_count": 61,
   "metadata": {},
   "outputs": [
    {
     "name": "stdout",
     "output_type": "stream",
     "text": [
      "mean1=8.100642, mean2=7.786110, mean3=7.741152\n",
      "variance1=0.029997, variance2=0.007906, variance3=0.023487\n"
     ]
    }
   ],
   "source": [
    "# Checking if stationary applies when using log values\n",
    "\n",
    "values = np.log(result_iphone_11_v1.values)\n",
    " \n",
    "# getting the count to split the dataset into 3 parts\n",
    "parts = int(len(values)/3)\n",
    " \n",
    "# splitting the data into three parts\n",
    "part_1, part_2, part_3 = values[0:parts], values[parts:(\n",
    "    parts*2)], values[(parts*2):(parts*3)]\n",
    " \n",
    "# calculating the mean of the separated three\n",
    "# parts of data individually.\n",
    "mean_1, mean_2, mean_3 = part_1.mean(), part_2.mean(), part_3.mean()\n",
    " \n",
    "# calculating the variance of the separated\n",
    "# three parts of data individually.\n",
    "var_1, var_2, var_3 = part_1.var(), part_2.var(), part_3.var()\n",
    " \n",
    "# printing the mean of three groups\n",
    "print('mean1=%f, mean2=%f, mean3=%f' % (mean_1, mean_2, mean_3))\n",
    " \n",
    "# printing the variance of three groups\n",
    "print('variance1=%f, variance2=%f, variance3=%f' % (var_1, var_2, var_3))"
   ]
  },
  {
   "cell_type": "markdown",
   "metadata": {},
   "source": [
    "### iPhone 12 - Stationary Method #2 - Augmented Dickey-Fuller Test\n",
    "\n",
    "##### We see that the data is not stationary for iPhone 12 under the ADF test"
   ]
  },
  {
   "cell_type": "code",
   "execution_count": 57,
   "metadata": {},
   "outputs": [
    {
     "name": "stdout",
     "output_type": "stream",
     "text": [
      "Augmneted Dickey_fuller Statistic: -1.342332\n",
      "p-value: 0.609590\n",
      "critical values at different levels:\n",
      "\t1%: -3.512\n",
      "\t5%: -2.897\n",
      "\t10%: -2.586\n"
     ]
    }
   ],
   "source": [
    "# Ho (Null Hypothesis): The time series data is non-stationary\n",
    "# H1 (alternate Hypothesis): The time series data is stationary\n",
    "# The test results are interpreted with a p-value if p > 0.05 fails to reject the null hypothesis, \n",
    "# else if p <= 0.05 reject the null hypothesis.\n",
    "\n",
    "values = result_iphone_12_v1.values\n",
    " \n",
    "# passing the extracted value count to adfuller function.\n",
    "# result of adfuller function is stored in a res variable\n",
    "res = adfuller(values)\n",
    " \n",
    "# Printing the statistical result of the adfuller test\n",
    "print('Augmneted Dickey_fuller Statistic: %f' % res[0])\n",
    "print('p-value: %f' % res[1])\n",
    " \n",
    "# printing the critical values at different alpha levels.\n",
    "print('critical values at different levels:')\n",
    "for k, v in res[4].items():\n",
    "    print('\\t%s: %.3f' % (k, v))\n",
    "\n",
    "\n",
    "# p-value is 0.609590, which is greater than 0.05, so we fail to reject the null hypothesis at 90%, 95%, and 99% confidence,\n",
    "# meaning the time series data is strongly non-stationary. Thus, the ADF test suggests our data is non-stationary"
   ]
  },
  {
   "cell_type": "code",
   "execution_count": 62,
   "metadata": {},
   "outputs": [
    {
     "name": "stdout",
     "output_type": "stream",
     "text": [
      "Augmneted Dickey_fuller Statistic: -2.229883\n",
      "p-value: 0.195579\n",
      "critical values at different levels:\n",
      "\t1%: -3.512\n",
      "\t5%: -2.897\n",
      "\t10%: -2.586\n"
     ]
    }
   ],
   "source": [
    "# Applying log function on iphone 11 data to see if ADF shows there is stationary data\n",
    "\n",
    "# Ho (Null Hypothesis): The time series data is non-stationary\n",
    "# H1 (alternate Hypothesis): The time series data is stationary\n",
    "# The test results are interpreted with a p-value if p > 0.05 fails to reject the null hypothesis, \n",
    "# else if p <= 0.05 reject the null hypothesis.\n",
    "\n",
    "# values function and applying log transform on it.\n",
    "values = np.log(result_iphone_12_v1.values)\n",
    " \n",
    "# passing the extracted passengers count to adfuller function.\n",
    "# result of adfuller function is stored in a res variable\n",
    "res = adfuller(values)\n",
    " \n",
    "# Printing the statistical result of the adfuller test\n",
    "print('Augmneted Dickey_fuller Statistic: %f' % res[0])\n",
    "print('p-value: %f' % res[1])\n",
    " \n",
    "# printing the critical values at different alpha levels.\n",
    "print('critical values at different levels:')\n",
    "for k, v in res[4].items():\n",
    "    print('\\t%s: %.3f' % (k, v))\n",
    "    \n",
    "# p-value is 0.195579, which is greater than 0.05, so we fail to reject the null hypothesis at 90%, 95%, and 99% confidence,\n",
    "# meaning the time series data is strongly non-stationary. Thus, the ADF test suggests our data is non-stationary"
   ]
  }
 ],
 "metadata": {
  "kernelspec": {
   "display_name": "Python 3 (ipykernel)",
   "language": "python",
   "name": "python3"
  },
  "language_info": {
   "codemirror_mode": {
    "name": "ipython",
    "version": 3
   },
   "file_extension": ".py",
   "mimetype": "text/x-python",
   "name": "python",
   "nbconvert_exporter": "python",
   "pygments_lexer": "ipython3",
   "version": "3.9.13"
  }
 },
 "nbformat": 4,
 "nbformat_minor": 4
}
