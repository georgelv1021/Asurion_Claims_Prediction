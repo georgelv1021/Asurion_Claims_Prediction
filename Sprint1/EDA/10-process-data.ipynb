{
 "cells": [
  {
   "cell_type": "markdown",
   "metadata": {},
   "source": [
    "# 10-process-data\n",
    "> Importing, cleaning, testing, and saving data\n",
    "\n",
    "This series of notebooks reflects operations to scrape, prepare, validate, and save the data."
   ]
  },
  {
   "cell_type": "markdown",
   "metadata": {},
   "source": [
    "#### Helpful packages and preliminaries"
   ]
  },
  {
   "cell_type": "code",
   "execution_count": 1,
   "metadata": {},
   "outputs": [],
   "source": [
    "#data access and processing\n",
    "import pandas as pd\n",
    "import numpy as np\n",
    "import os"
   ]
  },
  {
   "cell_type": "code",
   "execution_count": 2,
   "metadata": {},
   "outputs": [
    {
     "data": {
      "text/plain": [
       "'/gpfs52/data/p_dsi/teams2023/team9'"
      ]
     },
     "execution_count": 2,
     "metadata": {},
     "output_type": "execute_result"
    }
   ],
   "source": [
    "os.chdir('/data/p_dsi/teams2023/team9/')\n",
    "os.getcwd()"
   ]
  },
  {
   "cell_type": "code",
   "execution_count": 3,
   "metadata": {},
   "outputs": [],
   "source": [
    "try:\n",
    "    with open(\"Asurion_data.xlsx\", 'r') as tempfile: # OSError if file exists or is invalid\n",
    "        pass\n",
    "except OSError as e:\n",
    "    print(e)\n",
    "    # handle error here"
   ]
  },
  {
   "cell_type": "code",
   "execution_count": 4,
   "metadata": {},
   "outputs": [],
   "source": [
    "df = pd.read_excel(\"Asurion_data.xlsx\")"
   ]
  },
  {
   "cell_type": "code",
   "execution_count": 5,
   "metadata": {},
   "outputs": [
    {
     "data": {
      "text/html": [
       "<div>\n",
       "<style scoped>\n",
       "    .dataframe tbody tr th:only-of-type {\n",
       "        vertical-align: middle;\n",
       "    }\n",
       "\n",
       "    .dataframe tbody tr th {\n",
       "        vertical-align: top;\n",
       "    }\n",
       "\n",
       "    .dataframe thead th {\n",
       "        text-align: right;\n",
       "    }\n",
       "</style>\n",
       "<table border=\"1\" class=\"dataframe\">\n",
       "  <thead>\n",
       "    <tr style=\"text-align: right;\">\n",
       "      <th></th>\n",
       "      <th>phone model</th>\n",
       "      <th>phone size</th>\n",
       "      <th>phone color</th>\n",
       "      <th>claim</th>\n",
       "      <th>weeks_monday</th>\n",
       "    </tr>\n",
       "  </thead>\n",
       "  <tbody>\n",
       "    <tr>\n",
       "      <th>0</th>\n",
       "      <td>alcatel axel</td>\n",
       "      <td>32gb</td>\n",
       "      <td>black</td>\n",
       "      <td>1</td>\n",
       "      <td>2022-01-24</td>\n",
       "    </tr>\n",
       "    <tr>\n",
       "      <th>1</th>\n",
       "      <td>alcatel axel</td>\n",
       "      <td>32gb</td>\n",
       "      <td>black</td>\n",
       "      <td>3</td>\n",
       "      <td>2022-11-14</td>\n",
       "    </tr>\n",
       "    <tr>\n",
       "      <th>2</th>\n",
       "      <td>alcatel axel</td>\n",
       "      <td>32gb</td>\n",
       "      <td>black</td>\n",
       "      <td>1</td>\n",
       "      <td>2022-11-21</td>\n",
       "    </tr>\n",
       "    <tr>\n",
       "      <th>3</th>\n",
       "      <td>alcatel axel</td>\n",
       "      <td>32gb</td>\n",
       "      <td>black</td>\n",
       "      <td>3</td>\n",
       "      <td>2022-11-28</td>\n",
       "    </tr>\n",
       "    <tr>\n",
       "      <th>4</th>\n",
       "      <td>alcatel axel</td>\n",
       "      <td>32gb</td>\n",
       "      <td>black</td>\n",
       "      <td>1</td>\n",
       "      <td>2022-12-12</td>\n",
       "    </tr>\n",
       "    <tr>\n",
       "      <th>...</th>\n",
       "      <td>...</td>\n",
       "      <td>...</td>\n",
       "      <td>...</td>\n",
       "      <td>...</td>\n",
       "      <td>...</td>\n",
       "    </tr>\n",
       "    <tr>\n",
       "      <th>26656</th>\n",
       "      <td>samsung galaxy z fold3 5g</td>\n",
       "      <td>256gb</td>\n",
       "      <td>silver</td>\n",
       "      <td>17</td>\n",
       "      <td>2023-01-30</td>\n",
       "    </tr>\n",
       "    <tr>\n",
       "      <th>26657</th>\n",
       "      <td>samsung galaxy z fold3 5g</td>\n",
       "      <td>256gb</td>\n",
       "      <td>silver</td>\n",
       "      <td>26</td>\n",
       "      <td>2023-02-06</td>\n",
       "    </tr>\n",
       "    <tr>\n",
       "      <th>26658</th>\n",
       "      <td>samsung galaxy z fold3 5g</td>\n",
       "      <td>256gb</td>\n",
       "      <td>silver</td>\n",
       "      <td>4</td>\n",
       "      <td>2023-02-13</td>\n",
       "    </tr>\n",
       "    <tr>\n",
       "      <th>26659</th>\n",
       "      <td>samsung galaxy z fold3 5g</td>\n",
       "      <td>512gb</td>\n",
       "      <td>black</td>\n",
       "      <td>61</td>\n",
       "      <td>2023-02-06</td>\n",
       "    </tr>\n",
       "    <tr>\n",
       "      <th>26660</th>\n",
       "      <td>samsung galaxy z fold3 5g</td>\n",
       "      <td>512gb</td>\n",
       "      <td>black</td>\n",
       "      <td>16</td>\n",
       "      <td>2023-02-13</td>\n",
       "    </tr>\n",
       "  </tbody>\n",
       "</table>\n",
       "<p>26661 rows × 5 columns</p>\n",
       "</div>"
      ],
      "text/plain": [
       "                     phone model phone size phone color  claim weeks_monday\n",
       "0                   alcatel axel       32gb       black      1   2022-01-24\n",
       "1                   alcatel axel       32gb       black      3   2022-11-14\n",
       "2                   alcatel axel       32gb       black      1   2022-11-21\n",
       "3                   alcatel axel       32gb       black      3   2022-11-28\n",
       "4                   alcatel axel       32gb       black      1   2022-12-12\n",
       "...                          ...        ...         ...    ...          ...\n",
       "26656  samsung galaxy z fold3 5g      256gb      silver     17   2023-01-30\n",
       "26657  samsung galaxy z fold3 5g      256gb      silver     26   2023-02-06\n",
       "26658  samsung galaxy z fold3 5g      256gb      silver      4   2023-02-13\n",
       "26659  samsung galaxy z fold3 5g      512gb       black     61   2023-02-06\n",
       "26660  samsung galaxy z fold3 5g      512gb       black     16   2023-02-13\n",
       "\n",
       "[26661 rows x 5 columns]"
      ]
     },
     "metadata": {},
     "output_type": "display_data"
    }
   ],
   "source": [
    "display(df)"
   ]
  },
  {
   "cell_type": "markdown",
   "metadata": {},
   "source": [
    "###  NA values "
   ]
  },
  {
   "cell_type": "code",
   "execution_count": 6,
   "metadata": {},
   "outputs": [
    {
     "data": {
      "text/plain": [
       "False"
      ]
     },
     "execution_count": 6,
     "metadata": {},
     "output_type": "execute_result"
    }
   ],
   "source": [
    "df.isnull().values.any()"
   ]
  },
  {
   "cell_type": "markdown",
   "metadata": {},
   "source": [
    "### Checking duplicated rows"
   ]
  },
  {
   "cell_type": "code",
   "execution_count": 7,
   "metadata": {},
   "outputs": [
    {
     "name": "stdout",
     "output_type": "stream",
     "text": [
      "Duplicate Rows :\n"
     ]
    }
   ],
   "source": [
    "duplicate = df[df.duplicated()]\n",
    " \n",
    "print(\"Duplicate Rows :\")"
   ]
  },
  {
   "cell_type": "code",
   "execution_count": 8,
   "metadata": {},
   "outputs": [],
   "source": [
    "#df[df[\"phone model\"] == 'iphone 14']"
   ]
  },
  {
   "cell_type": "markdown",
   "metadata": {
    "collapsed": true
   },
   "source": [
    "### Listing of types of variables"
   ]
  },
  {
   "cell_type": "code",
   "execution_count": 9,
   "metadata": {},
   "outputs": [
    {
     "name": "stdout",
     "output_type": "stream",
     "text": [
      "phone model             object\n",
      "phone size              object\n",
      "phone color             object\n",
      "claim                    int64\n",
      "weeks_monday    datetime64[ns]\n",
      "dtype: object\n"
     ]
    }
   ],
   "source": [
    "types = df.dtypes\n",
    "print(types)"
   ]
  },
  {
   "cell_type": "code",
   "execution_count": 10,
   "metadata": {},
   "outputs": [
    {
     "data": {
      "text/plain": [
       "phone model\n",
       "alcatel axel                    5\n",
       "alcatel smartflip 4052r        23\n",
       "alcatel tetra                   4\n",
       "apple iphone 11              1511\n",
       "apple iphone 11 pro           584\n",
       "                             ... \n",
       "samsung galaxy z flip 5g       57\n",
       "samsung galaxy z flip3 5g     138\n",
       "samsung galaxy z flip4 5g      11\n",
       "samsung galaxy z fold2 5g     124\n",
       "samsung galaxy z fold3 5g     167\n",
       "Name: phone model, Length: 128, dtype: int64"
      ]
     },
     "execution_count": 10,
     "metadata": {},
     "output_type": "execute_result"
    }
   ],
   "source": [
    "df.groupby(\"phone model\")[\"phone model\"].count()"
   ]
  },
  {
   "cell_type": "code",
   "execution_count": 11,
   "metadata": {},
   "outputs": [
    {
     "data": {
      "text/plain": [
       "phone size\n",
       "128gb    9373\n",
       "16gb     1322\n",
       "256gb    5116\n",
       "32gb     2242\n",
       "4gb        48\n",
       "512gb     922\n",
       "64gb     6344\n",
       "8gb        35\n",
       "gb       1259\n",
       "Name: phone size, dtype: int64"
      ]
     },
     "execution_count": 11,
     "metadata": {},
     "output_type": "execute_result"
    }
   ],
   "source": [
    "df.groupby(\"phone size\")[\"phone size\"].count()"
   ]
  },
  {
   "cell_type": "code",
   "execution_count": 12,
   "metadata": {},
   "outputs": [
    {
     "data": {
      "text/plain": [
       "phone color\n",
       "black        5192\n",
       "blue         2224\n",
       "bronze        203\n",
       "burgundy       15\n",
       "coral         220\n",
       "cream          29\n",
       "glow          149\n",
       "gold         3455\n",
       "graphite      196\n",
       "gray         4243\n",
       "green        1552\n",
       "lavender      141\n",
       "midnight      189\n",
       "orange          4\n",
       "pink          303\n",
       "platinum      316\n",
       "purple        766\n",
       "red          1430\n",
       "silver       3666\n",
       "starlight     120\n",
       "titanium       79\n",
       "violet        104\n",
       "white        1638\n",
       "yellow        427\n",
       "Name: phone color, dtype: int64"
      ]
     },
     "execution_count": 12,
     "metadata": {},
     "output_type": "execute_result"
    }
   ],
   "source": [
    "df.groupby(\"phone color\")[\"phone color\"].count()"
   ]
  },
  {
   "cell_type": "code",
   "execution_count": 56,
   "metadata": {},
   "outputs": [
    {
     "data": {
      "text/plain": [
       "weeks_monday\n",
       "2021-06-28    238\n",
       "2021-07-05    246\n",
       "2021-07-12    238\n",
       "2021-07-19    236\n",
       "2021-07-26    235\n",
       "2021-08-02    247\n",
       "2021-08-09    262\n",
       "2021-08-16    256\n",
       "2021-08-23    260\n",
       "2021-08-30    258\n",
       "2021-09-06    256\n",
       "2021-09-13    255\n",
       "2021-09-20    257\n",
       "2021-09-27    251\n",
       "2021-10-04    268\n",
       "2021-10-11    263\n",
       "2021-10-18    256\n",
       "2021-10-25    265\n",
       "2021-11-01    262\n",
       "2021-11-08    267\n",
       "2021-11-15    277\n",
       "2021-11-22    276\n",
       "2021-11-29    270\n",
       "2021-12-06    271\n",
       "2021-12-13    282\n",
       "2021-12-20    269\n",
       "2021-12-27    268\n",
       "2022-01-03    277\n",
       "2022-01-10    281\n",
       "2022-01-17    275\n",
       "             ... \n",
       "2022-07-25    371\n",
       "2022-08-01    369\n",
       "2022-08-08    383\n",
       "2022-08-15    389\n",
       "2022-08-22    382\n",
       "2022-08-29    379\n",
       "2022-09-05    374\n",
       "2022-09-12    385\n",
       "2022-09-19    380\n",
       "2022-09-26    381\n",
       "2022-10-03    396\n",
       "2022-10-10    386\n",
       "2022-10-17    353\n",
       "2022-10-24    322\n",
       "2022-10-31    387\n",
       "2022-11-07    372\n",
       "2022-11-14    345\n",
       "2022-11-21    310\n",
       "2022-11-28    359\n",
       "2022-12-05    344\n",
       "2022-12-12    326\n",
       "2022-12-19    277\n",
       "2022-12-26    290\n",
       "2023-01-02    320\n",
       "2023-01-09    369\n",
       "2023-01-16    367\n",
       "2023-01-23    346\n",
       "2023-01-30    359\n",
       "2023-02-06    333\n",
       "2023-02-13    246\n",
       "Name: weeks_monday, Length: 86, dtype: int64"
      ]
     },
     "execution_count": 56,
     "metadata": {},
     "output_type": "execute_result"
    }
   ],
   "source": [
    "df.groupby(\"weeks_monday\")[\"weeks_monday\"].count()"
   ]
  },
  {
   "cell_type": "code",
   "execution_count": 13,
   "metadata": {},
   "outputs": [
    {
     "data": {
      "text/html": [
       "<div>\n",
       "<style scoped>\n",
       "    .dataframe tbody tr th:only-of-type {\n",
       "        vertical-align: middle;\n",
       "    }\n",
       "\n",
       "    .dataframe tbody tr th {\n",
       "        vertical-align: top;\n",
       "    }\n",
       "\n",
       "    .dataframe thead th {\n",
       "        text-align: right;\n",
       "    }\n",
       "</style>\n",
       "<table border=\"1\" class=\"dataframe\">\n",
       "  <thead>\n",
       "    <tr style=\"text-align: right;\">\n",
       "      <th></th>\n",
       "      <th>phone model</th>\n",
       "      <th>phone size</th>\n",
       "      <th>phone color</th>\n",
       "      <th>claim</th>\n",
       "      <th>weeks_monday</th>\n",
       "    </tr>\n",
       "  </thead>\n",
       "  <tbody>\n",
       "    <tr>\n",
       "      <th>15165</th>\n",
       "      <td>apple iphone x 256</td>\n",
       "      <td>gb</td>\n",
       "      <td>gray</td>\n",
       "      <td>48</td>\n",
       "      <td>2021-06-28</td>\n",
       "    </tr>\n",
       "    <tr>\n",
       "      <th>15166</th>\n",
       "      <td>apple iphone x 256</td>\n",
       "      <td>gb</td>\n",
       "      <td>gray</td>\n",
       "      <td>153</td>\n",
       "      <td>2021-07-05</td>\n",
       "    </tr>\n",
       "    <tr>\n",
       "      <th>15167</th>\n",
       "      <td>apple iphone x 256</td>\n",
       "      <td>gb</td>\n",
       "      <td>gray</td>\n",
       "      <td>119</td>\n",
       "      <td>2021-07-12</td>\n",
       "    </tr>\n",
       "    <tr>\n",
       "      <th>15168</th>\n",
       "      <td>apple iphone x 256</td>\n",
       "      <td>gb</td>\n",
       "      <td>gray</td>\n",
       "      <td>87</td>\n",
       "      <td>2021-07-19</td>\n",
       "    </tr>\n",
       "    <tr>\n",
       "      <th>15169</th>\n",
       "      <td>apple iphone x 256</td>\n",
       "      <td>gb</td>\n",
       "      <td>gray</td>\n",
       "      <td>115</td>\n",
       "      <td>2021-07-26</td>\n",
       "    </tr>\n",
       "    <tr>\n",
       "      <th>...</th>\n",
       "      <td>...</td>\n",
       "      <td>...</td>\n",
       "      <td>...</td>\n",
       "      <td>...</td>\n",
       "      <td>...</td>\n",
       "    </tr>\n",
       "    <tr>\n",
       "      <th>24497</th>\n",
       "      <td>samsung galaxy s6 edge plus 64</td>\n",
       "      <td>gb</td>\n",
       "      <td>platinum</td>\n",
       "      <td>1</td>\n",
       "      <td>2021-12-13</td>\n",
       "    </tr>\n",
       "    <tr>\n",
       "      <th>24498</th>\n",
       "      <td>samsung galaxy s6 edge plus 64</td>\n",
       "      <td>gb</td>\n",
       "      <td>platinum</td>\n",
       "      <td>1</td>\n",
       "      <td>2021-12-27</td>\n",
       "    </tr>\n",
       "    <tr>\n",
       "      <th>24499</th>\n",
       "      <td>samsung galaxy s6 edge plus 64</td>\n",
       "      <td>gb</td>\n",
       "      <td>platinum</td>\n",
       "      <td>1</td>\n",
       "      <td>2022-04-18</td>\n",
       "    </tr>\n",
       "    <tr>\n",
       "      <th>24500</th>\n",
       "      <td>samsung galaxy s6 edge plus 64</td>\n",
       "      <td>gb</td>\n",
       "      <td>platinum</td>\n",
       "      <td>1</td>\n",
       "      <td>2022-06-13</td>\n",
       "    </tr>\n",
       "    <tr>\n",
       "      <th>24501</th>\n",
       "      <td>samsung galaxy s6 edge plus 64</td>\n",
       "      <td>gb</td>\n",
       "      <td>platinum</td>\n",
       "      <td>1</td>\n",
       "      <td>2022-08-15</td>\n",
       "    </tr>\n",
       "  </tbody>\n",
       "</table>\n",
       "<p>1259 rows × 5 columns</p>\n",
       "</div>"
      ],
      "text/plain": [
       "                          phone model phone size phone color  claim  \\\n",
       "15165              apple iphone x 256         gb        gray     48   \n",
       "15166              apple iphone x 256         gb        gray    153   \n",
       "15167              apple iphone x 256         gb        gray    119   \n",
       "15168              apple iphone x 256         gb        gray     87   \n",
       "15169              apple iphone x 256         gb        gray    115   \n",
       "...                               ...        ...         ...    ...   \n",
       "24497  samsung galaxy s6 edge plus 64         gb    platinum      1   \n",
       "24498  samsung galaxy s6 edge plus 64         gb    platinum      1   \n",
       "24499  samsung galaxy s6 edge plus 64         gb    platinum      1   \n",
       "24500  samsung galaxy s6 edge plus 64         gb    platinum      1   \n",
       "24501  samsung galaxy s6 edge plus 64         gb    platinum      1   \n",
       "\n",
       "      weeks_monday  \n",
       "15165   2021-06-28  \n",
       "15166   2021-07-05  \n",
       "15167   2021-07-12  \n",
       "15168   2021-07-19  \n",
       "15169   2021-07-26  \n",
       "...            ...  \n",
       "24497   2021-12-13  \n",
       "24498   2021-12-27  \n",
       "24499   2022-04-18  \n",
       "24500   2022-06-13  \n",
       "24501   2022-08-15  \n",
       "\n",
       "[1259 rows x 5 columns]"
      ]
     },
     "execution_count": 13,
     "metadata": {},
     "output_type": "execute_result"
    }
   ],
   "source": [
    "df.loc[df.loc[:, 'phone size'] == 'gb']"
   ]
  },
  {
   "cell_type": "markdown",
   "metadata": {},
   "source": [
    "### Formatting issue of phone size column (Data Cleaning)"
   ]
  },
  {
   "cell_type": "code",
   "execution_count": 14,
   "metadata": {},
   "outputs": [],
   "source": [
    "df_copy = df.copy()"
   ]
  },
  {
   "cell_type": "code",
   "execution_count": 15,
   "metadata": {},
   "outputs": [],
   "source": [
    "size_num = df_copy.loc[(df_copy.loc[:, 'phone size'] == 'gb'), 'phone model'].str[-3:]\n",
    "size_num = size_num.astype(str)"
   ]
  },
  {
   "cell_type": "code",
   "execution_count": 16,
   "metadata": {},
   "outputs": [
    {
     "data": {
      "text/plain": [
       "15165    256\n",
       "15166    256\n",
       "15167    256\n",
       "15168    256\n",
       "15169    256\n",
       "        ... \n",
       "24497     64\n",
       "24498     64\n",
       "24499     64\n",
       "24500     64\n",
       "24501     64\n",
       "Name: phone model, Length: 1259, dtype: object"
      ]
     },
     "metadata": {},
     "output_type": "display_data"
    }
   ],
   "source": [
    "#df_copy['phone size'] = 'size_num' + df_copy['phone size']\n",
    "display(size_num)"
   ]
  },
  {
   "cell_type": "code",
   "execution_count": 17,
   "metadata": {},
   "outputs": [],
   "source": [
    "df_copy.loc[(df_copy.loc[:, 'phone size'] == 'gb'), 'phone size'] = size_num + df_copy.loc[(df_copy.loc[:, 'phone size'] == 'gb'), 'phone size']"
   ]
  },
  {
   "cell_type": "code",
   "execution_count": 18,
   "metadata": {},
   "outputs": [
    {
     "data": {
      "text/plain": [
       "phone size\n",
       " 16gb       7\n",
       " 32gb     335\n",
       " 64gb     510\n",
       "128gb    9382\n",
       "16gb     1322\n",
       "256gb    5514\n",
       "32gb     2242\n",
       "4gb        48\n",
       "512gb     922\n",
       "64gb     6344\n",
       "8gb        35\n",
       "Name: phone size, dtype: int64"
      ]
     },
     "execution_count": 18,
     "metadata": {},
     "output_type": "execute_result"
    }
   ],
   "source": [
    "df_copy.groupby(\"phone size\")[\"phone size\"].count()"
   ]
  },
  {
   "cell_type": "markdown",
   "metadata": {},
   "source": [
    "### Creating the clean dataset"
   ]
  },
  {
   "cell_type": "code",
   "execution_count": 19,
   "metadata": {},
   "outputs": [
    {
     "data": {
      "text/html": [
       "<div>\n",
       "<style scoped>\n",
       "    .dataframe tbody tr th:only-of-type {\n",
       "        vertical-align: middle;\n",
       "    }\n",
       "\n",
       "    .dataframe tbody tr th {\n",
       "        vertical-align: top;\n",
       "    }\n",
       "\n",
       "    .dataframe thead th {\n",
       "        text-align: right;\n",
       "    }\n",
       "</style>\n",
       "<table border=\"1\" class=\"dataframe\">\n",
       "  <thead>\n",
       "    <tr style=\"text-align: right;\">\n",
       "      <th></th>\n",
       "      <th>Unnamed: 0</th>\n",
       "      <th>phone model</th>\n",
       "      <th>phone size</th>\n",
       "      <th>phone color</th>\n",
       "      <th>claim</th>\n",
       "      <th>weeks_monday</th>\n",
       "    </tr>\n",
       "  </thead>\n",
       "  <tbody>\n",
       "    <tr>\n",
       "      <th>0</th>\n",
       "      <td>0</td>\n",
       "      <td>alcatel axel</td>\n",
       "      <td>32gb</td>\n",
       "      <td>black</td>\n",
       "      <td>1</td>\n",
       "      <td>2022-01-24</td>\n",
       "    </tr>\n",
       "    <tr>\n",
       "      <th>1</th>\n",
       "      <td>1</td>\n",
       "      <td>alcatel axel</td>\n",
       "      <td>32gb</td>\n",
       "      <td>black</td>\n",
       "      <td>3</td>\n",
       "      <td>2022-11-14</td>\n",
       "    </tr>\n",
       "    <tr>\n",
       "      <th>2</th>\n",
       "      <td>2</td>\n",
       "      <td>alcatel axel</td>\n",
       "      <td>32gb</td>\n",
       "      <td>black</td>\n",
       "      <td>1</td>\n",
       "      <td>2022-11-21</td>\n",
       "    </tr>\n",
       "    <tr>\n",
       "      <th>3</th>\n",
       "      <td>3</td>\n",
       "      <td>alcatel axel</td>\n",
       "      <td>32gb</td>\n",
       "      <td>black</td>\n",
       "      <td>3</td>\n",
       "      <td>2022-11-28</td>\n",
       "    </tr>\n",
       "    <tr>\n",
       "      <th>4</th>\n",
       "      <td>4</td>\n",
       "      <td>alcatel axel</td>\n",
       "      <td>32gb</td>\n",
       "      <td>black</td>\n",
       "      <td>1</td>\n",
       "      <td>2022-12-12</td>\n",
       "    </tr>\n",
       "    <tr>\n",
       "      <th>...</th>\n",
       "      <td>...</td>\n",
       "      <td>...</td>\n",
       "      <td>...</td>\n",
       "      <td>...</td>\n",
       "      <td>...</td>\n",
       "      <td>...</td>\n",
       "    </tr>\n",
       "    <tr>\n",
       "      <th>26656</th>\n",
       "      <td>26656</td>\n",
       "      <td>samsung galaxy z fold3 5g</td>\n",
       "      <td>256gb</td>\n",
       "      <td>silver</td>\n",
       "      <td>17</td>\n",
       "      <td>2023-01-30</td>\n",
       "    </tr>\n",
       "    <tr>\n",
       "      <th>26657</th>\n",
       "      <td>26657</td>\n",
       "      <td>samsung galaxy z fold3 5g</td>\n",
       "      <td>256gb</td>\n",
       "      <td>silver</td>\n",
       "      <td>26</td>\n",
       "      <td>2023-02-06</td>\n",
       "    </tr>\n",
       "    <tr>\n",
       "      <th>26658</th>\n",
       "      <td>26658</td>\n",
       "      <td>samsung galaxy z fold3 5g</td>\n",
       "      <td>256gb</td>\n",
       "      <td>silver</td>\n",
       "      <td>4</td>\n",
       "      <td>2023-02-13</td>\n",
       "    </tr>\n",
       "    <tr>\n",
       "      <th>26659</th>\n",
       "      <td>26659</td>\n",
       "      <td>samsung galaxy z fold3 5g</td>\n",
       "      <td>512gb</td>\n",
       "      <td>black</td>\n",
       "      <td>61</td>\n",
       "      <td>2023-02-06</td>\n",
       "    </tr>\n",
       "    <tr>\n",
       "      <th>26660</th>\n",
       "      <td>26660</td>\n",
       "      <td>samsung galaxy z fold3 5g</td>\n",
       "      <td>512gb</td>\n",
       "      <td>black</td>\n",
       "      <td>16</td>\n",
       "      <td>2023-02-13</td>\n",
       "    </tr>\n",
       "  </tbody>\n",
       "</table>\n",
       "<p>26661 rows × 6 columns</p>\n",
       "</div>"
      ],
      "text/plain": [
       "       Unnamed: 0                phone model phone size phone color  claim  \\\n",
       "0               0               alcatel axel       32gb       black      1   \n",
       "1               1               alcatel axel       32gb       black      3   \n",
       "2               2               alcatel axel       32gb       black      1   \n",
       "3               3               alcatel axel       32gb       black      3   \n",
       "4               4               alcatel axel       32gb       black      1   \n",
       "...           ...                        ...        ...         ...    ...   \n",
       "26656       26656  samsung galaxy z fold3 5g      256gb      silver     17   \n",
       "26657       26657  samsung galaxy z fold3 5g      256gb      silver     26   \n",
       "26658       26658  samsung galaxy z fold3 5g      256gb      silver      4   \n",
       "26659       26659  samsung galaxy z fold3 5g      512gb       black     61   \n",
       "26660       26660  samsung galaxy z fold3 5g      512gb       black     16   \n",
       "\n",
       "      weeks_monday  \n",
       "0       2022-01-24  \n",
       "1       2022-11-14  \n",
       "2       2022-11-21  \n",
       "3       2022-11-28  \n",
       "4       2022-12-12  \n",
       "...            ...  \n",
       "26656   2023-01-30  \n",
       "26657   2023-02-06  \n",
       "26658   2023-02-13  \n",
       "26659   2023-02-06  \n",
       "26660   2023-02-13  \n",
       "\n",
       "[26661 rows x 6 columns]"
      ]
     },
     "metadata": {},
     "output_type": "display_data"
    }
   ],
   "source": [
    "df2 = pd.read_csv('Asurion_clean_data.csv')\n",
    "display(df2)\n",
    "#list(df2.columns)"
   ]
  },
  {
   "cell_type": "code",
   "execution_count": 21,
   "metadata": {},
   "outputs": [
    {
     "data": {
      "text/html": [
       "<div>\n",
       "<style scoped>\n",
       "    .dataframe tbody tr th:only-of-type {\n",
       "        vertical-align: middle;\n",
       "    }\n",
       "\n",
       "    .dataframe tbody tr th {\n",
       "        vertical-align: top;\n",
       "    }\n",
       "\n",
       "    .dataframe thead th {\n",
       "        text-align: right;\n",
       "    }\n",
       "</style>\n",
       "<table border=\"1\" class=\"dataframe\">\n",
       "  <thead>\n",
       "    <tr style=\"text-align: right;\">\n",
       "      <th></th>\n",
       "      <th>phone model</th>\n",
       "      <th>phone size</th>\n",
       "      <th>phone color</th>\n",
       "      <th>claim</th>\n",
       "      <th>weeks_monday</th>\n",
       "    </tr>\n",
       "  </thead>\n",
       "  <tbody>\n",
       "    <tr>\n",
       "      <th>0</th>\n",
       "      <td>alcatel axel</td>\n",
       "      <td>32gb</td>\n",
       "      <td>black</td>\n",
       "      <td>1</td>\n",
       "      <td>2022-01-24</td>\n",
       "    </tr>\n",
       "    <tr>\n",
       "      <th>1</th>\n",
       "      <td>alcatel axel</td>\n",
       "      <td>32gb</td>\n",
       "      <td>black</td>\n",
       "      <td>3</td>\n",
       "      <td>2022-11-14</td>\n",
       "    </tr>\n",
       "    <tr>\n",
       "      <th>2</th>\n",
       "      <td>alcatel axel</td>\n",
       "      <td>32gb</td>\n",
       "      <td>black</td>\n",
       "      <td>1</td>\n",
       "      <td>2022-11-21</td>\n",
       "    </tr>\n",
       "    <tr>\n",
       "      <th>3</th>\n",
       "      <td>alcatel axel</td>\n",
       "      <td>32gb</td>\n",
       "      <td>black</td>\n",
       "      <td>3</td>\n",
       "      <td>2022-11-28</td>\n",
       "    </tr>\n",
       "    <tr>\n",
       "      <th>4</th>\n",
       "      <td>alcatel axel</td>\n",
       "      <td>32gb</td>\n",
       "      <td>black</td>\n",
       "      <td>1</td>\n",
       "      <td>2022-12-12</td>\n",
       "    </tr>\n",
       "    <tr>\n",
       "      <th>...</th>\n",
       "      <td>...</td>\n",
       "      <td>...</td>\n",
       "      <td>...</td>\n",
       "      <td>...</td>\n",
       "      <td>...</td>\n",
       "    </tr>\n",
       "    <tr>\n",
       "      <th>26656</th>\n",
       "      <td>samsung galaxy z fold3 5g</td>\n",
       "      <td>256gb</td>\n",
       "      <td>silver</td>\n",
       "      <td>17</td>\n",
       "      <td>2023-01-30</td>\n",
       "    </tr>\n",
       "    <tr>\n",
       "      <th>26657</th>\n",
       "      <td>samsung galaxy z fold3 5g</td>\n",
       "      <td>256gb</td>\n",
       "      <td>silver</td>\n",
       "      <td>26</td>\n",
       "      <td>2023-02-06</td>\n",
       "    </tr>\n",
       "    <tr>\n",
       "      <th>26658</th>\n",
       "      <td>samsung galaxy z fold3 5g</td>\n",
       "      <td>256gb</td>\n",
       "      <td>silver</td>\n",
       "      <td>4</td>\n",
       "      <td>2023-02-13</td>\n",
       "    </tr>\n",
       "    <tr>\n",
       "      <th>26659</th>\n",
       "      <td>samsung galaxy z fold3 5g</td>\n",
       "      <td>512gb</td>\n",
       "      <td>black</td>\n",
       "      <td>61</td>\n",
       "      <td>2023-02-06</td>\n",
       "    </tr>\n",
       "    <tr>\n",
       "      <th>26660</th>\n",
       "      <td>samsung galaxy z fold3 5g</td>\n",
       "      <td>512gb</td>\n",
       "      <td>black</td>\n",
       "      <td>16</td>\n",
       "      <td>2023-02-13</td>\n",
       "    </tr>\n",
       "  </tbody>\n",
       "</table>\n",
       "<p>26661 rows × 5 columns</p>\n",
       "</div>"
      ],
      "text/plain": [
       "                     phone model phone size phone color  claim weeks_monday\n",
       "0                   alcatel axel       32gb       black      1   2022-01-24\n",
       "1                   alcatel axel       32gb       black      3   2022-11-14\n",
       "2                   alcatel axel       32gb       black      1   2022-11-21\n",
       "3                   alcatel axel       32gb       black      3   2022-11-28\n",
       "4                   alcatel axel       32gb       black      1   2022-12-12\n",
       "...                          ...        ...         ...    ...          ...\n",
       "26656  samsung galaxy z fold3 5g      256gb      silver     17   2023-01-30\n",
       "26657  samsung galaxy z fold3 5g      256gb      silver     26   2023-02-06\n",
       "26658  samsung galaxy z fold3 5g      256gb      silver      4   2023-02-13\n",
       "26659  samsung galaxy z fold3 5g      512gb       black     61   2023-02-06\n",
       "26660  samsung galaxy z fold3 5g      512gb       black     16   2023-02-13\n",
       "\n",
       "[26661 rows x 5 columns]"
      ]
     },
     "metadata": {},
     "output_type": "display_data"
    }
   ],
   "source": [
    "# Dropping the extra index column\n",
    "df2 = df2.drop('Unnamed: 0', axis = 1)\n",
    "display(df2)"
   ]
  },
  {
   "cell_type": "code",
   "execution_count": 25,
   "metadata": {},
   "outputs": [
    {
     "data": {
      "text/html": [
       "<div>\n",
       "<style scoped>\n",
       "    .dataframe tbody tr th:only-of-type {\n",
       "        vertical-align: middle;\n",
       "    }\n",
       "\n",
       "    .dataframe tbody tr th {\n",
       "        vertical-align: top;\n",
       "    }\n",
       "\n",
       "    .dataframe thead th {\n",
       "        text-align: right;\n",
       "    }\n",
       "</style>\n",
       "<table border=\"1\" class=\"dataframe\">\n",
       "  <thead>\n",
       "    <tr style=\"text-align: right;\">\n",
       "      <th></th>\n",
       "      <th>phone model</th>\n",
       "      <th>phone size</th>\n",
       "      <th>phone color</th>\n",
       "      <th>claim</th>\n",
       "      <th>weeks_monday</th>\n",
       "    </tr>\n",
       "  </thead>\n",
       "  <tbody>\n",
       "    <tr>\n",
       "      <th>0</th>\n",
       "      <td>alcatel axel</td>\n",
       "      <td>32gb</td>\n",
       "      <td>black</td>\n",
       "      <td>1</td>\n",
       "      <td>2022-01-24</td>\n",
       "    </tr>\n",
       "    <tr>\n",
       "      <th>1</th>\n",
       "      <td>alcatel axel</td>\n",
       "      <td>32gb</td>\n",
       "      <td>black</td>\n",
       "      <td>3</td>\n",
       "      <td>2022-11-14</td>\n",
       "    </tr>\n",
       "    <tr>\n",
       "      <th>2</th>\n",
       "      <td>alcatel axel</td>\n",
       "      <td>32gb</td>\n",
       "      <td>black</td>\n",
       "      <td>1</td>\n",
       "      <td>2022-11-21</td>\n",
       "    </tr>\n",
       "    <tr>\n",
       "      <th>3</th>\n",
       "      <td>alcatel axel</td>\n",
       "      <td>32gb</td>\n",
       "      <td>black</td>\n",
       "      <td>3</td>\n",
       "      <td>2022-11-28</td>\n",
       "    </tr>\n",
       "    <tr>\n",
       "      <th>4</th>\n",
       "      <td>alcatel axel</td>\n",
       "      <td>32gb</td>\n",
       "      <td>black</td>\n",
       "      <td>1</td>\n",
       "      <td>2022-12-12</td>\n",
       "    </tr>\n",
       "    <tr>\n",
       "      <th>...</th>\n",
       "      <td>...</td>\n",
       "      <td>...</td>\n",
       "      <td>...</td>\n",
       "      <td>...</td>\n",
       "      <td>...</td>\n",
       "    </tr>\n",
       "    <tr>\n",
       "      <th>26656</th>\n",
       "      <td>samsung galaxy z fold3 5g</td>\n",
       "      <td>256gb</td>\n",
       "      <td>silver</td>\n",
       "      <td>17</td>\n",
       "      <td>2023-01-30</td>\n",
       "    </tr>\n",
       "    <tr>\n",
       "      <th>26657</th>\n",
       "      <td>samsung galaxy z fold3 5g</td>\n",
       "      <td>256gb</td>\n",
       "      <td>silver</td>\n",
       "      <td>26</td>\n",
       "      <td>2023-02-06</td>\n",
       "    </tr>\n",
       "    <tr>\n",
       "      <th>26658</th>\n",
       "      <td>samsung galaxy z fold3 5g</td>\n",
       "      <td>256gb</td>\n",
       "      <td>silver</td>\n",
       "      <td>4</td>\n",
       "      <td>2023-02-13</td>\n",
       "    </tr>\n",
       "    <tr>\n",
       "      <th>26659</th>\n",
       "      <td>samsung galaxy z fold3 5g</td>\n",
       "      <td>512gb</td>\n",
       "      <td>black</td>\n",
       "      <td>61</td>\n",
       "      <td>2023-02-06</td>\n",
       "    </tr>\n",
       "    <tr>\n",
       "      <th>26660</th>\n",
       "      <td>samsung galaxy z fold3 5g</td>\n",
       "      <td>512gb</td>\n",
       "      <td>black</td>\n",
       "      <td>16</td>\n",
       "      <td>2023-02-13</td>\n",
       "    </tr>\n",
       "  </tbody>\n",
       "</table>\n",
       "<p>26661 rows × 5 columns</p>\n",
       "</div>"
      ],
      "text/plain": [
       "                     phone model phone size phone color  claim weeks_monday\n",
       "0                   alcatel axel       32gb       black      1   2022-01-24\n",
       "1                   alcatel axel       32gb       black      3   2022-11-14\n",
       "2                   alcatel axel       32gb       black      1   2022-11-21\n",
       "3                   alcatel axel       32gb       black      3   2022-11-28\n",
       "4                   alcatel axel       32gb       black      1   2022-12-12\n",
       "...                          ...        ...         ...    ...          ...\n",
       "26656  samsung galaxy z fold3 5g      256gb      silver     17   2023-01-30\n",
       "26657  samsung galaxy z fold3 5g      256gb      silver     26   2023-02-06\n",
       "26658  samsung galaxy z fold3 5g      256gb      silver      4   2023-02-13\n",
       "26659  samsung galaxy z fold3 5g      512gb       black     61   2023-02-06\n",
       "26660  samsung galaxy z fold3 5g      512gb       black     16   2023-02-13\n",
       "\n",
       "[26661 rows x 5 columns]"
      ]
     },
     "metadata": {},
     "output_type": "display_data"
    }
   ],
   "source": [
    "#df2.to_csv('Asurion_clean_data.csv', index = False)\n",
    "\n",
    "#df_new = pd.read_csv('Asurion_clean_data.csv')\n",
    "#display(df_new)"
   ]
  },
  {
   "cell_type": "code",
   "execution_count": null,
   "metadata": {},
   "outputs": [],
   "source": []
  }
 ],
 "metadata": {
  "kernelspec": {
   "display_name": "Python 3 (ipykernel)",
   "language": "python",
   "name": "python3"
  },
  "language_info": {
   "codemirror_mode": {
    "name": "ipython",
    "version": 3
   },
   "file_extension": ".py",
   "mimetype": "text/x-python",
   "name": "python",
   "nbconvert_exporter": "python",
   "pygments_lexer": "ipython3",
   "version": "3.9.12"
  }
 },
 "nbformat": 4,
 "nbformat_minor": 4
}
